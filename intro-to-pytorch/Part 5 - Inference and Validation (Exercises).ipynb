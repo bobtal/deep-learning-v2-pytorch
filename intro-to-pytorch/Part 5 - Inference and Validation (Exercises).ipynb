{
 "cells": [
  {
   "cell_type": "markdown",
   "metadata": {},
   "source": [
    "# Inference and Validation\n",
    "\n",
    "Now that you have a trained network, you can use it for making predictions. This is typically called **inference**, a term borrowed from statistics. However, neural networks have a tendency to perform *too well* on the training data and aren't able to generalize to data that hasn't been seen before. This is called **overfitting** and it impairs inference performance. To test for overfitting while training, we measure the performance on data not in the training set called the **validation** set. We avoid overfitting through regularization such as dropout while monitoring the validation performance during training. In this notebook, I'll show you how to do this in PyTorch. \n",
    "\n",
    "As usual, let's start by loading the dataset through torchvision. You'll learn more about torchvision and loading data in a later part. This time we'll be taking advantage of the test set which you can get by setting `train=False` here:\n",
    "\n",
    "```python\n",
    "testset = datasets.FashionMNIST('~/.pytorch/F_MNIST_data/', download=True, train=False, transform=transform)\n",
    "```\n",
    "\n",
    "The test set contains images just like the training set. Typically you'll see 10-20% of the original dataset held out for testing and validation with the rest being used for training."
   ]
  },
  {
   "cell_type": "code",
   "execution_count": 1,
   "metadata": {},
   "outputs": [],
   "source": [
    "import torch\n",
    "from torchvision import datasets, transforms\n",
    "\n",
    "# Define a transform to normalize the data\n",
    "transform = transforms.Compose([transforms.ToTensor(),\n",
    "                                transforms.Normalize((0.5, 0.5, 0.5), (0.5, 0.5, 0.5))])\n",
    "# Download and load the training data\n",
    "trainset = datasets.FashionMNIST('./.pytorch/F_MNIST_data/', download=True, train=True, transform=transform)\n",
    "trainloader = torch.utils.data.DataLoader(trainset, batch_size=64, shuffle=True)\n",
    "\n",
    "# Download and load the test data\n",
    "testset = datasets.FashionMNIST('./.pytorch/F_MNIST_data/', download=True, train=False, transform=transform)\n",
    "testloader = torch.utils.data.DataLoader(testset, batch_size=64, shuffle=True)"
   ]
  },
  {
   "cell_type": "markdown",
   "metadata": {},
   "source": [
    "Here I'll create a model like normal, using the same one from my solution for part 4."
   ]
  },
  {
   "cell_type": "code",
   "execution_count": 2,
   "metadata": {},
   "outputs": [],
   "source": [
    "from torch import nn, optim\n",
    "import torch.nn.functional as F\n",
    "\n",
    "class Classifier(nn.Module):\n",
    "    def __init__(self):\n",
    "        super().__init__()\n",
    "        self.fc1 = nn.Linear(784, 256)\n",
    "        self.fc2 = nn.Linear(256, 128)\n",
    "        self.fc3 = nn.Linear(128, 64)\n",
    "        self.fc4 = nn.Linear(64, 10)\n",
    "        \n",
    "    def forward(self, x):\n",
    "        # make sure input tensor is flattened\n",
    "        x = x.view(x.shape[0], -1)\n",
    "        \n",
    "        x = F.relu(self.fc1(x))\n",
    "        x = F.relu(self.fc2(x))\n",
    "        x = F.relu(self.fc3(x))\n",
    "        x = F.log_softmax(self.fc4(x), dim=1)\n",
    "        \n",
    "        return x"
   ]
  },
  {
   "cell_type": "markdown",
   "metadata": {},
   "source": [
    "The goal of validation is to measure the model's performance on data that isn't part of the training set. Performance here is up to the developer to define though. Typically this is just accuracy, the percentage of classes the network predicted correctly. Other options are [precision and recall](https://en.wikipedia.org/wiki/Precision_and_recall#Definition_(classification_context)) and top-5 error rate. We'll focus on accuracy here. First I'll do a forward pass with one batch from the test set."
   ]
  },
  {
   "cell_type": "code",
   "execution_count": 3,
   "metadata": {},
   "outputs": [
    {
     "name": "stdout",
     "output_type": "stream",
     "text": [
      "torch.Size([64, 10])\n"
     ]
    }
   ],
   "source": [
    "model = Classifier()\n",
    "\n",
    "images, labels = next(iter(testloader))\n",
    "# Get the class probabilities\n",
    "ps = torch.exp(model(images))\n",
    "# Make sure the shape is appropriate, we should get 10 class probabilities for 64 examples\n",
    "print(ps.shape)"
   ]
  },
  {
   "cell_type": "markdown",
   "metadata": {},
   "source": [
    "With the probabilities, we can get the most likely class using the `ps.topk` method. This returns the $k$ highest values. Since we just want the most likely class, we can use `ps.topk(1)`. This returns a tuple of the top-$k$ values and the top-$k$ indices. If the highest value is the fifth element, we'll get back 4 as the index."
   ]
  },
  {
   "cell_type": "code",
   "execution_count": 4,
   "metadata": {},
   "outputs": [
    {
     "name": "stdout",
     "output_type": "stream",
     "text": [
      "tensor([[2],\n",
      "        [5],\n",
      "        [2],\n",
      "        [5],\n",
      "        [5],\n",
      "        [2],\n",
      "        [2],\n",
      "        [5],\n",
      "        [2],\n",
      "        [5]])\n"
     ]
    }
   ],
   "source": [
    "top_p, top_class = ps.topk(1, dim=1)\n",
    "# Look at the most likely classes for the first 10 examples\n",
    "print(top_class[:10,:])"
   ]
  },
  {
   "cell_type": "markdown",
   "metadata": {},
   "source": [
    "Now we can check if the predicted classes match the labels. This is simple to do by equating `top_class` and `labels`, but we have to be careful of the shapes. Here `top_class` is a 2D tensor with shape `(64, 1)` while `labels` is 1D with shape `(64)`. To get the equality to work out the way we want, `top_class` and `labels` must have the same shape.\n",
    "\n",
    "If we do\n",
    "\n",
    "```python\n",
    "equals = top_class == labels\n",
    "```\n",
    "\n",
    "`equals` will have shape `(64, 64)`, try it yourself. What it's doing is comparing the one element in each row of `top_class` with each element in `labels` which returns 64 True/False boolean values for each row."
   ]
  },
  {
   "cell_type": "code",
   "execution_count": 5,
   "metadata": {},
   "outputs": [
    {
     "data": {
      "text/plain": [
       "torch.Size([64, 64])"
      ]
     },
     "execution_count": 5,
     "metadata": {},
     "output_type": "execute_result"
    }
   ],
   "source": [
    "equals = top_class == labels\n",
    "equals\n",
    "equals.shape"
   ]
  },
  {
   "cell_type": "code",
   "execution_count": 6,
   "metadata": {},
   "outputs": [
    {
     "data": {
      "text/plain": [
       "tensor([[0],\n",
       "        [0],\n",
       "        [0],\n",
       "        [1],\n",
       "        [0],\n",
       "        [0],\n",
       "        [1],\n",
       "        [0],\n",
       "        [0],\n",
       "        [0],\n",
       "        [0],\n",
       "        [0],\n",
       "        [0],\n",
       "        [0],\n",
       "        [0],\n",
       "        [0],\n",
       "        [1],\n",
       "        [0],\n",
       "        [0],\n",
       "        [0],\n",
       "        [0],\n",
       "        [0],\n",
       "        [0],\n",
       "        [0],\n",
       "        [0],\n",
       "        [1],\n",
       "        [0],\n",
       "        [1],\n",
       "        [0],\n",
       "        [0],\n",
       "        [1],\n",
       "        [0],\n",
       "        [0],\n",
       "        [0],\n",
       "        [0],\n",
       "        [0],\n",
       "        [0],\n",
       "        [0],\n",
       "        [0],\n",
       "        [1],\n",
       "        [0],\n",
       "        [0],\n",
       "        [0],\n",
       "        [0],\n",
       "        [0],\n",
       "        [0],\n",
       "        [0],\n",
       "        [1],\n",
       "        [0],\n",
       "        [0],\n",
       "        [0],\n",
       "        [0],\n",
       "        [0],\n",
       "        [0],\n",
       "        [0],\n",
       "        [0],\n",
       "        [0],\n",
       "        [0],\n",
       "        [0],\n",
       "        [0],\n",
       "        [0],\n",
       "        [0],\n",
       "        [0],\n",
       "        [0]], dtype=torch.uint8)"
      ]
     },
     "execution_count": 6,
     "metadata": {},
     "output_type": "execute_result"
    }
   ],
   "source": [
    "equals = top_class == labels.view(*top_class.shape)\n",
    "equals"
   ]
  },
  {
   "cell_type": "markdown",
   "metadata": {},
   "source": [
    "Now we need to calculate the percentage of correct predictions. `equals` has binary values, either 0 or 1. This means that if we just sum up all the values and divide by the number of values, we get the percentage of correct predictions. This is the same operation as taking the mean, so we can get the accuracy with a call to `torch.mean`. If only it was that simple. If you try `torch.mean(equals)`, you'll get an error\n",
    "\n",
    "```\n",
    "RuntimeError: mean is not implemented for type torch.ByteTensor\n",
    "```\n",
    "\n",
    "This happens because `equals` has type `torch.ByteTensor` but `torch.mean` isn't implemented for tensors with that type. So we'll need to convert `equals` to a float tensor. Note that when we take `torch.mean` it returns a scalar tensor, to get the actual value as a float we'll need to do `accuracy.item()`."
   ]
  },
  {
   "cell_type": "code",
   "execution_count": 7,
   "metadata": {},
   "outputs": [
    {
     "name": "stdout",
     "output_type": "stream",
     "text": [
      "tensor(0.1250)\n",
      "Accuracy: 12.5%\n"
     ]
    }
   ],
   "source": [
    "accuracy = torch.mean(equals.type(torch.FloatTensor))\n",
    "print(accuracy)\n",
    "print(f'Accuracy: {accuracy.item()*100}%')"
   ]
  },
  {
   "cell_type": "markdown",
   "metadata": {},
   "source": [
    "The network is untrained so it's making random guesses and we should see an accuracy around 10%. Now let's train our network and include our validation pass so we can measure how well the network is performing on the test set. Since we're not updating our parameters in the validation pass, we can speed up our code by turning off gradients using `torch.no_grad()`:\n",
    "\n",
    "```python\n",
    "# turn off gradients\n",
    "with torch.no_grad():\n",
    "    # validation pass here\n",
    "    for images, labels in testloader:\n",
    "        ...\n",
    "```\n",
    "\n",
    ">**Exercise:** Implement the validation loop below and print out the total accuracy after the loop. You can largely copy and paste the code from above, but I suggest typing it in because writing it out yourself is essential for building the skill. In general you'll always learn more by typing it rather than copy-pasting. You should be able to get an accuracy above 80%."
   ]
  },
  {
   "cell_type": "code",
   "execution_count": null,
   "metadata": {},
   "outputs": [],
   "source": [
    "device = torch.device(\"cuda:0\" if torch.cuda.is_available() else \"cpu\")\n",
    "\n",
    "model = Classifier()\n",
    "criterion = nn.NLLLoss()\n",
    "optimizer = optim.Adam(model.parameters(), lr=0.003)\n",
    "\n",
    "epochs = 30\n",
    "steps = 0\n",
    "\n",
    "train_losses, test_losses = [], []\n",
    "\n",
    "for e in range(epochs):\n",
    "    running_loss = 0\n",
    "    model.to(device)\n",
    "    for images, labels in trainloader:\n",
    "        \n",
    "        images, labels = images.to(device), labels.to(device)\n",
    "        \n",
    "        optimizer.zero_grad()\n",
    "        \n",
    "        log_ps = model(images)\n",
    "        loss = criterion(log_ps, labels)\n",
    "        loss.backward()\n",
    "        optimizer.step()\n",
    "        \n",
    "        running_loss += loss.item()\n",
    "        \n",
    "    else:\n",
    "        ## TODO: Implement the validation pass and print out the validation accuracy\n",
    "        \n",
    "        accuracy = 0\n",
    "        test_loss = 0\n",
    "        \n",
    "        # turn off gradients\n",
    "        with torch.no_grad():\n",
    "            \n",
    "#             model.to('cpu')\n",
    "            \n",
    "            # validation pass here\n",
    "            for images, labels in testloader:\n",
    "                images, labels = images.to(device), labels.to(device)\n",
    "                \n",
    "                # get log probabilities for test data\n",
    "                logps = model(images)\n",
    "                \n",
    "                # get loss for test data\n",
    "                test_loss += criterion(logps, labels)\n",
    "                \n",
    "                # exp the log probabilities to get actual probabilities in order to test accuracy\n",
    "                ps = torch.exp(logps)\n",
    "                \n",
    "                # get top_class from ps.topk method, 1 = argument so we only get\n",
    "                # the single predicted class which had the highest probability\n",
    "                # don't really care for the probabilities in top_p, but topk returns a tuple\n",
    "                top_p, top_class = ps.topk(1, dim=1)\n",
    "                \n",
    "                equals = labels == top_class.view(*labels.shape)\n",
    "                equals = equals.type(torch.FloatTensor)\n",
    "                \n",
    "                accuracy += torch.mean(equals)\n",
    "            \n",
    "            train_losses.append(running_loss/len(trainloader))\n",
    "            test_losses.append(test_loss/len(testloader))\n",
    "                \n",
    "                \n",
    "        print(\"Epoch: {}/{}.. \".format(e+1, epochs),\n",
    "              \"Training Loss: {:.3f}.. \".format(running_loss/len(trainloader)),\n",
    "              \"Test Loss: {:.3f}.. \".format(test_loss/len(testloader)),\n",
    "              \"Test Accuracy: {:.3f}\".format(accuracy/len(testloader)))\n",
    "        \n",
    "# 3:55 with Cuda for training\n",
    "# about the same with Cuda for both training and testing"
   ]
  },
  {
   "cell_type": "markdown",
   "metadata": {},
   "source": [
    "## Overfitting\n",
    "\n",
    "If we look at the training and validation losses as we train the network, we can see a phenomenon known as overfitting.\n",
    "\n",
    "<img src='assets/overfitting.png' width=450px>\n",
    "\n",
    "The network learns the training set better and better, resulting in lower training losses. However, it starts having problems generalizing to data outside the training set leading to the validation loss increasing. The ultimate goal of any deep learning model is to make predictions on new data, so we should strive to get the lowest validation loss possible. One option is to use the version of the model with the lowest validation loss, here the one around 8-10 training epochs. This strategy is called *early-stopping*. In practice, you'd save the model frequently as you're training then later choose the model with the lowest validation loss.\n",
    "\n",
    "The most common method to reduce overfitting (outside of early-stopping) is *dropout*, where we randomly drop input units. This forces the network to share information between weights, increasing it's ability to generalize to new data. Adding dropout in PyTorch is straightforward using the [`nn.Dropout`](https://pytorch.org/docs/stable/nn.html#torch.nn.Dropout) module.\n",
    "\n",
    "```python\n",
    "class Classifier(nn.Module):\n",
    "    def __init__(self):\n",
    "        super().__init__()\n",
    "        self.fc1 = nn.Linear(784, 256)\n",
    "        self.fc2 = nn.Linear(256, 128)\n",
    "        self.fc3 = nn.Linear(128, 64)\n",
    "        self.fc4 = nn.Linear(64, 10)\n",
    "        \n",
    "        # Dropout module with 0.2 drop probability\n",
    "        self.dropout = nn.Dropout(p=0.2)\n",
    "        \n",
    "    def forward(self, x):\n",
    "        # make sure input tensor is flattened\n",
    "        x = x.view(x.shape[0], -1)\n",
    "        \n",
    "        # Now with dropout\n",
    "        x = self.dropout(F.relu(self.fc1(x)))\n",
    "        x = self.dropout(F.relu(self.fc2(x)))\n",
    "        x = self.dropout(F.relu(self.fc3(x)))\n",
    "        \n",
    "        # output so no dropout here\n",
    "        x = F.log_softmax(self.fc4(x), dim=1)\n",
    "        \n",
    "        return x\n",
    "```\n",
    "\n",
    "During training we want to use dropout to prevent overfitting, but during inference we want to use the entire network. So, we need to turn off dropout during validation, testing, and whenever we're using the network to make predictions. To do this, you use `model.eval()`. This sets the model to evaluation mode where the dropout probability is 0. You can turn dropout back on by setting the model to train mode with `model.train()`. In general, the pattern for the validation loop will look like this, where you turn off gradients, set the model to evaluation mode, calculate the validation loss and metric, then set the model back to train mode.\n",
    "\n",
    "```python\n",
    "# turn off gradients\n",
    "with torch.no_grad():\n",
    "    \n",
    "    # set model to evaluation mode\n",
    "    model.eval()\n",
    "    \n",
    "    # validation pass here\n",
    "    for images, labels in testloader:\n",
    "        ...\n",
    "\n",
    "# set model back to train mode\n",
    "model.train()\n",
    "```"
   ]
  },
  {
   "cell_type": "markdown",
   "metadata": {},
   "source": [
    "> **Exercise:** Add dropout to your model and train it on Fashion-MNIST again. See if you can get a lower validation loss or higher accuracy."
   ]
  },
  {
   "cell_type": "code",
   "execution_count": 8,
   "metadata": {},
   "outputs": [],
   "source": [
    "## TODO: Define your model with dropout added\n",
    "\n",
    "class Network(nn.Module):\n",
    "    def __init__(self):\n",
    "        super().__init__()\n",
    "        \n",
    "        self.fc1 = nn.Linear(784, 256)\n",
    "        self.fc2 = nn.Linear(256, 128)\n",
    "        self.fc3 = nn.Linear(128, 64)\n",
    "        self.output = nn.Linear(64, 10)\n",
    "        \n",
    "        self.dropout = nn.Dropout(p=0.2)\n",
    "    \n",
    "    def forward(self, x):\n",
    "        # flatten the input tensor\n",
    "        x = x.view(x.shape[0], -1)\n",
    "        \n",
    "        # with dropout\n",
    "        x = self.dropout(F.relu(self.fc1(x)))\n",
    "        x = self.dropout(F.relu(self.fc2(x)))\n",
    "        x = self.dropout(F.relu(self.fc3(x)))\n",
    "        \n",
    "        # no dropout in the output\n",
    "        x = F.log_softmax(self.output(x), dim=1)\n",
    "        \n",
    "        return x\n"
   ]
  },
  {
   "cell_type": "code",
   "execution_count": 23,
   "metadata": {},
   "outputs": [
    {
     "name": "stdout",
     "output_type": "stream",
     "text": [
      "Epoch 1 - training loss 0.5987537001400615, testing loss 0.4712451696395874, testing accuracy 0.8296178579330444\n",
      "Epoch 2 - training loss 0.43713857711695914, testing loss 0.41036108136177063, testing accuracy 0.8516122698783875\n",
      "Epoch 3 - training loss 0.3970757315535027, testing loss 0.39327558875083923, testing accuracy 0.8555931448936462\n",
      "Epoch 4 - training loss 0.37308969447957174, testing loss 0.3720565140247345, testing accuracy 0.865545392036438\n",
      "Epoch 5 - training loss 0.3562903161496242, testing loss 0.3577980399131775, testing accuracy 0.8699243664741516\n",
      "Epoch 6 - training loss 0.34044161885341345, testing loss 0.35612863302230835, testing accuracy 0.8730095624923706\n",
      "Epoch 7 - training loss 0.33377480514045715, testing loss 0.35731932520866394, testing accuracy 0.8724124431610107\n",
      "Epoch 8 - training loss 0.32056866404312506, testing loss 0.3584946393966675, testing accuracy 0.8707205653190613\n",
      "Epoch 9 - training loss 0.31290974244793085, testing loss 0.3486897647380829, testing accuracy 0.8743033409118652\n",
      "Epoch 10 - training loss 0.3057329589560596, testing loss 0.33541327714920044, testing accuracy 0.8821656107902527\n",
      "Epoch 11 - training loss 0.2979998134457862, testing loss 0.3348645567893982, testing accuracy 0.8819665312767029\n",
      "Epoch 12 - training loss 0.29458698056050453, testing loss 0.3333771228790283, testing accuracy 0.8776870965957642\n",
      "Epoch 13 - training loss 0.2843191605259869, testing loss 0.33457815647125244, testing accuracy 0.8824641704559326\n",
      "Epoch 14 - training loss 0.2811053097009786, testing loss 0.33733680844306946, testing accuracy 0.8800756335258484\n",
      "Epoch 15 - training loss 0.27595106104035366, testing loss 0.33923786878585815, testing accuracy 0.8833598494529724\n",
      "Epoch 16 - training loss 0.27067383169047615, testing loss 0.3378567397594452, testing accuracy 0.8836584687232971\n",
      "Epoch 17 - training loss 0.2671419235268064, testing loss 0.3518664836883545, testing accuracy 0.883957028388977\n",
      "Epoch 18 - training loss 0.2605657275917052, testing loss 0.33413398265838623, testing accuracy 0.8837579488754272\n",
      "Epoch 19 - training loss 0.25930998136779904, testing loss 0.32565948367118835, testing accuracy 0.8869426846504211\n",
      "Epoch 20 - training loss 0.25482939916061187, testing loss 0.3418593406677246, testing accuracy 0.8809713125228882\n",
      "Epoch 21 - training loss 0.25114011009142345, testing loss 0.35081058740615845, testing accuracy 0.8819665312767029\n",
      "Epoch 22 - training loss 0.2466243316274462, testing loss 0.32510286569595337, testing accuracy 0.8861464858055115\n",
      "Epoch 23 - training loss 0.24480292940142948, testing loss 0.34367620944976807, testing accuracy 0.8817675113677979\n",
      "Epoch 24 - training loss 0.24235120255237957, testing loss 0.3280627429485321, testing accuracy 0.8865445852279663\n",
      "Epoch 25 - training loss 0.23893455305952888, testing loss 0.33086273074150085, testing accuracy 0.8878383636474609\n",
      "Epoch 26 - training loss 0.23669159920739213, testing loss 0.34630832076072693, testing accuracy 0.8871417045593262\n",
      "Epoch 27 - training loss 0.2310465066703652, testing loss 0.3336464762687683, testing accuracy 0.8881369233131409\n",
      "Epoch 28 - training loss 0.23128395569302254, testing loss 0.3281266689300537, testing accuracy 0.8895302414894104\n",
      "Epoch 29 - training loss 0.22571836153009553, testing loss 0.33546528220176697, testing accuracy 0.8871417045593262\n",
      "Epoch 30 - training loss 0.227925742060931, testing loss 0.3307071030139923, testing accuracy 0.8899283409118652\n",
      "Epoch 31 - training loss 0.22027254343700053, testing loss 0.3187001347541809, testing accuracy 0.8900278806686401\n",
      "Epoch 32 - training loss 0.21995003426125817, testing loss 0.33328548073768616, testing accuracy 0.8881369233131409\n",
      "Epoch 33 - training loss 0.21878042513691287, testing loss 0.32549041509628296, testing accuracy 0.890425980091095\n",
      "Epoch 34 - training loss 0.21860204043307666, testing loss 0.3298030197620392, testing accuracy 0.8916202187538147\n",
      "Epoch 35 - training loss 0.21102033638115378, testing loss 0.33105117082595825, testing accuracy 0.8910230994224548\n",
      "Epoch 36 - training loss 0.215191344847716, testing loss 0.3393796682357788, testing accuracy 0.8853503465652466\n",
      "Epoch 37 - training loss 0.2111540194997973, testing loss 0.33185875415802, testing accuracy 0.8893312215805054\n",
      "Epoch 38 - training loss 0.2073546432371714, testing loss 0.3322434425354004, testing accuracy 0.8905254602432251\n",
      "Epoch 39 - training loss 0.20570125982864326, testing loss 0.34448689222335815, testing accuracy 0.890824019908905\n",
      "Epoch 40 - training loss 0.20664033054241113, testing loss 0.34061238169670105, testing accuracy 0.8924164175987244\n",
      "Epoch 41 - training loss 0.2006256838859335, testing loss 0.3419376015663147, testing accuracy 0.890625\n",
      "Epoch 42 - training loss 0.20223045687097857, testing loss 0.3388819098472595, testing accuracy 0.890425980091095\n",
      "Epoch 43 - training loss 0.19835613004323135, testing loss 0.3499179780483246, testing accuracy 0.8878383636474609\n",
      "Epoch 44 - training loss 0.19878977739305764, testing loss 0.3498144745826721, testing accuracy 0.8897293210029602\n",
      "Epoch 45 - training loss 0.19499564623591234, testing loss 0.3434435725212097, testing accuracy 0.8903264403343201\n",
      "Epoch 46 - training loss 0.19500799866309806, testing loss 0.3388964831829071, testing accuracy 0.8907245397567749\n",
      "Epoch 47 - training loss 0.19425582234412114, testing loss 0.3428021967411041, testing accuracy 0.8941082954406738\n",
      "Epoch 48 - training loss 0.1887834873963902, testing loss 0.35586467385292053, testing accuracy 0.8911226391792297\n",
      "Epoch 49 - training loss 0.18776724629326544, testing loss 0.3406014144420624, testing accuracy 0.8926154375076294\n",
      "Epoch 50 - training loss 0.18473115145985378, testing loss 0.3403927981853485, testing accuracy 0.8896297812461853\n",
      "Training done.\n"
     ]
    }
   ],
   "source": [
    "## TODO: Train your model with dropout, and monitor the training progress with the validation loss and accuracy\n",
    "\n",
    "device = torch.device('cuda:0' if torch.cuda.is_available() else 'cpu')\n",
    "\n",
    "model = Network()\n",
    "model.to(device)\n",
    "\n",
    "criterion = nn.NLLLoss()\n",
    "optimizer = optim.Adam(model.parameters(), lr=0.001)\n",
    "\n",
    "epochs = 50\n",
    "\n",
    "# training pass\n",
    "for i in range(epochs):\n",
    "    \n",
    "    training_loss = 0\n",
    "    \n",
    "    # training pass\n",
    "    for images, labels in trainloader:\n",
    "        images, labels = images.to(device), labels.to(device)\n",
    "        \n",
    "        # clear the gradients\n",
    "        optimizer.zero_grad()\n",
    "        \n",
    "        # forward pass\n",
    "        logps = model(images)\n",
    "        \n",
    "        # calculate loss\n",
    "        loss = criterion(logps, labels)\n",
    "        \n",
    "        # calculate gradients\n",
    "        loss.backward()\n",
    "        \n",
    "        # update weights\n",
    "        optimizer.step()\n",
    "        \n",
    "        # update training loss\n",
    "        training_loss += loss.item()\n",
    "        \n",
    "    # validation pass\n",
    "    else:\n",
    "        testing_loss = 0\n",
    "        accuracy = 0\n",
    "\n",
    "        # turn off gradients\n",
    "        with torch.no_grad():\n",
    "\n",
    "            # set the model to evaluation mode\n",
    "            model.eval()\n",
    "\n",
    "            # start validation pass\n",
    "            for images, labels in testloader:\n",
    "                images, labels = images.to(device), labels.to(device)\n",
    "\n",
    "                # get log probabilities from the model\n",
    "                logps = model(images)\n",
    "\n",
    "                # add testing loss\n",
    "                testing_loss += criterion(logps, labels)\n",
    "                \n",
    "                # get actual probabilities by exp\n",
    "                ps = torch.exp(logps)\n",
    "\n",
    "                # get the topmost 1 predicted probability and class for each image\n",
    "                top_s, top_class = ps.topk(1, dim=1)\n",
    "\n",
    "                # check equaility between the predicted classes and the actual labels\n",
    "                equals = top_class == labels.view(*top_class.shape)\n",
    "\n",
    "                # convert equals from byte to float tensor\n",
    "                equals = equals.type(torch.FloatTensor)\n",
    "\n",
    "                accuracy += torch.mean(equals)\n",
    "\n",
    "\n",
    "        # set the model back to training mode\n",
    "        model.train()\n",
    "                \n",
    "    \n",
    "    print(\"Epoch {} - training loss {}, testing loss {}, testing accuracy {}\"\n",
    "          .format(i+1, training_loss/len(trainloader), testing_loss/len(testloader), accuracy/len(testloader)))\n",
    "        \n",
    "print(\"Training done.\")"
   ]
  },
  {
   "cell_type": "markdown",
   "metadata": {},
   "source": [
    "## Inference\n",
    "\n",
    "Now that the model is trained, we can use it for inference. We've done this before, but now we need to remember to set the model in inference mode with `model.eval()`. You'll also want to turn off autograd with the `torch.no_grad()` context."
   ]
  },
  {
   "cell_type": "code",
   "execution_count": 27,
   "metadata": {},
   "outputs": [
    {
     "data": {
      "image/png": "[encoded data removed]",
      "text/plain": [
       "<Figure size 432x648 with 2 Axes>"
      ]
     },
     "metadata": {
      "needs_background": "light"
     },
     "output_type": "display_data"
    }
   ],
   "source": [
    "# Import helper module (should be in the repo)\n",
    "import helper\n",
    "\n",
    "# Test out your network!\n",
    "\n",
    "# move the model back to cpu\n",
    "model.to('cpu')\n",
    "\n",
    "model.eval()\n",
    "\n",
    "dataiter = iter(testloader)\n",
    "images, labels = dataiter.next()\n",
    "img = images[0]\n",
    "# Convert 2D image to 1D vector\n",
    "img = img.view(1, 784)\n",
    "\n",
    "# Calculate the class probabilities (softmax) for img\n",
    "with torch.no_grad():\n",
    "    output = model.forward(img)\n",
    "\n",
    "ps = torch.exp(output)\n",
    "\n",
    "# Plot the image and probabilities\n",
    "helper.view_classify(img.view(1, 28, 28), ps, version='Fashion')"
   ]
  },
  {
   "cell_type": "markdown",
   "metadata": {},
   "source": [
    "## Next Up!\n",
    "\n",
    "In the next part, I'll show you how to save your trained models. In general, you won't want to train a model everytime you need it. Instead, you'll train once, save it, then load the model when you want to train more or use if for inference."
   ]
  }
 ],
 "metadata": {
  "kernelspec": {
   "display_name": "Python 3",
   "language": "python",
   "name": "python3"
  },
  "language_info": {
   "codemirror_mode": {
    "name": "ipython",
    "version": 3
   },
   "file_extension": ".py",
   "mimetype": "text/x-python",
   "name": "python",
   "nbconvert_exporter": "python",
   "pygments_lexer": "ipython3",
   "version": "3.7.1"
  }
 },
 "nbformat": 4,
 "nbformat_minor": 2
}
