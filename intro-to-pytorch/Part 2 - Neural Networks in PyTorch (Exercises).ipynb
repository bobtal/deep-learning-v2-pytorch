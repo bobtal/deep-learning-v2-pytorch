{
 "cells": [
  {
   "cell_type": "markdown",
   "metadata": {},
   "source": [
    "# Neural networks with PyTorch\n",
    "\n",
    "Deep learning networks tend to be massive with dozens or hundreds of layers, that's where the term \"deep\" comes from. You can build one of these deep networks using only weight matrices as we did in the previous notebook, but in general it's very cumbersome and difficult to implement. PyTorch has a nice module `nn` that provides a nice way to efficiently build large neural networks."
   ]
  },
  {
   "cell_type": "code",
   "execution_count": 1,
   "metadata": {},
   "outputs": [],
   "source": [
    "# Import necessary packages\n",
    "\n",
    "%matplotlib inline\n",
    "%config InlineBackend.figure_format = 'retina'\n",
    "\n",
    "import numpy as np\n",
    "import torch\n",
    "\n",
    "import helper\n",
    "\n",
    "import matplotlib.pyplot as plt"
   ]
  },
  {
   "cell_type": "markdown",
   "metadata": {},
   "source": [
    "\n",
    "Now we're going to build a larger network that can solve a (formerly) difficult problem, identifying text in an image. Here we'll use the MNIST dataset which consists of greyscale handwritten digits. Each image is 28x28 pixels, you can see a sample below\n",
    "\n",
    "<img src='assets/mnist.png'>\n",
    "\n",
    "Our goal is to build a neural network that can take one of these images and predict the digit in the image.\n",
    "\n",
    "First up, we need to get our dataset. This is provided through the `torchvision` package. The code below will download the MNIST dataset, then create training and test datasets for us. Don't worry too much about the details here, you'll learn more about this later."
   ]
  },
  {
   "cell_type": "code",
   "execution_count": 2,
   "metadata": {},
   "outputs": [],
   "source": [
    "### Run this cell\n",
    "\n",
    "from torchvision import datasets, transforms\n",
    "\n",
    "# Define a transform to normalize the data\n",
    "transform = transforms.Compose([transforms.ToTensor(),\n",
    "                              transforms.Normalize((0.5,), (0.5,)),\n",
    "                              ])\n",
    "\n",
    "# Download and load the training data\n",
    "trainset = datasets.MNIST('./.pytorch/MNIST_data/', download=True, train=True, transform=transform)\n",
    "trainloader = torch.utils.data.DataLoader(trainset, batch_size=64, shuffle=True)"
   ]
  },
  {
   "cell_type": "markdown",
   "metadata": {},
   "source": [
    "We have the training data loaded into `trainloader` and we make that an iterator with `iter(trainloader)`. Later, we'll use this to loop through the dataset for training, like\n",
    "\n",
    "```python\n",
    "for image, label in trainloader:\n",
    "    ## do things with images and labels\n",
    "```\n",
    "\n",
    "You'll notice I created the `trainloader` with a batch size of 64, and `shuffle=True`. The batch size is the number of images we get in one iteration from the data loader and pass through our network, often called a *batch*. And `shuffle=True` tells it to shuffle the dataset every time we start going through the data loader again. But here I'm just grabbing the first batch so we can check out the data. We can see below that `images` is just a tensor with size `(64, 1, 28, 28)`. So, 64 images per batch, 1 color channel, and 28x28 images."
   ]
  },
  {
   "cell_type": "code",
   "execution_count": 3,
   "metadata": {},
   "outputs": [
    {
     "name": "stdout",
     "output_type": "stream",
     "text": [
      "<class 'torch.Tensor'>\n",
      "torch.Size([64, 1, 28, 28])\n",
      "torch.Size([64])\n"
     ]
    }
   ],
   "source": [
    "dataiter = iter(trainloader)\n",
    "images, labels = dataiter.next()\n",
    "print(type(images))\n",
    "print(images.shape)\n",
    "print(labels.shape)"
   ]
  },
  {
   "cell_type": "markdown",
   "metadata": {},
   "source": [
    "This is what one of the images looks like. "
   ]
  },
  {
   "cell_type": "code",
   "execution_count": 4,
   "metadata": {},
   "outputs": [
    {
     "data": {
      "image/png": "[encoded data removed]",
      "text/plain": [
       "<Figure size 432x288 with 1 Axes>"
      ]
     },
     "metadata": {
      "image/png": {
       "height": 250,
       "width": 253
      },
      "needs_background": "light"
     },
     "output_type": "display_data"
    }
   ],
   "source": [
    "plt.imshow(images[1].numpy().squeeze(), cmap='Greys_r');"
   ]
  },
  {
   "cell_type": "markdown",
   "metadata": {},
   "source": [
    "First, let's try to build a simple network for this dataset using weight matrices and matrix multiplications. Then, we'll see how to do it using PyTorch's `nn` module which provides a much more convenient and powerful method for defining network architectures.\n",
    "\n",
    "The networks you've seen so far are called *fully-connected* or *dense* networks. Each unit in one layer is connected to each unit in the next layer. In fully-connected networks, the input to each layer must be a one-dimensional vector (which can be stacked into a 2D tensor as a batch of multiple examples). However, our images are 28x28 2D tensors, so we need to convert them into 1D vectors. Thinking about sizes, we need to convert the batch of images with shape `(64, 1, 28, 28)` to a have a shape of `(64, 784)`, 784 is 28 times 28. This is typically called *flattening*, we flattened the 2D images into 1D vectors.\n",
    "\n",
    "Previously you built a network with one output unit. Here we need 10 output units, one for each digit. We want our network to predict the digit shown in an image, so what we'll do is calculate probabilities that the image is of any one digit or class. This ends up being a discrete probability distribution over the classes (digits) that tells us the most likely class for the image. That means we need 10 output units for the 10 classes (digits). We'll see how to convert the network output into a probability distribution next.\n",
    "\n",
    "> **Exercise:** Flatten the batch of images `images`. Then build a multi-layer network with 784 input units, 256 hidden units, and 10 output units using random tensors for the weights and biases. For now, use a sigmoid activation for the hidden layer. Leave the output layer without an activation, we'll add one that gives us a probability distribution next."
   ]
  },
  {
   "cell_type": "code",
   "execution_count": 5,
   "metadata": {},
   "outputs": [
    {
     "data": {
      "text/plain": [
       "torch.Size([64, 1, 28, 28])"
      ]
     },
     "execution_count": 5,
     "metadata": {},
     "output_type": "execute_result"
    }
   ],
   "source": [
    "images.shape"
   ]
  },
  {
   "cell_type": "code",
   "execution_count": 6,
   "metadata": {},
   "outputs": [
    {
     "name": "stdout",
     "output_type": "stream",
     "text": [
      "tensor([[ 1.6492e+01, -1.1096e+01,  1.8339e+00,  1.1700e+01, -1.3723e+01,\n",
      "          9.6827e+00,  1.6605e+00, -1.7091e+00, -4.6825e+00, -3.9436e+00],\n",
      "        [ 7.1835e+00,  3.7884e+00, -1.1971e+00, -1.0540e+01, -2.3526e+01,\n",
      "          1.3724e+01,  5.5185e+00,  2.5648e+00, -4.7339e+00,  1.5380e+00],\n",
      "        [-4.3779e+00, -6.8822e+00,  4.0993e+00,  9.3637e-01, -7.3660e+00,\n",
      "          1.0356e+01,  8.6530e-01, -3.9359e+00, -1.3336e+00, -2.9977e+00],\n",
      "        [ 9.9061e+00, -7.0525e+00,  2.7976e+00,  6.6347e+00, -1.7456e+01,\n",
      "          3.8356e+00, -4.1473e+00,  4.0287e+00, -4.7410e-02, -8.3570e+00],\n",
      "        [ 1.1467e+01,  7.5809e+00,  1.3518e+01,  3.7557e+00, -1.8560e+01,\n",
      "          7.2101e+00,  8.7596e+00, -3.0801e+00,  4.8809e+00, -5.9713e+00],\n",
      "        [ 1.5270e+01,  3.9789e+00,  3.7853e+00,  4.7301e+00, -1.1279e+01,\n",
      "          1.1785e+01, -2.3500e+00, -1.3112e+00, -9.7760e-02, -2.4782e+00],\n",
      "        [ 1.6452e+01, -9.1930e+00,  6.6055e+00,  3.2360e+00, -1.5404e+01,\n",
      "          9.3859e+00,  5.1379e+00,  1.2583e+00, -3.4683e+00, -3.9599e+00],\n",
      "        [-1.2427e+00,  8.8848e+00,  6.6776e+00, -3.8917e+00, -2.1760e+01,\n",
      "          4.7342e+00,  1.2052e+01, -1.6910e+00,  4.1150e+00, -1.7678e+01],\n",
      "        [ 1.6712e+01, -5.2998e+00,  6.5323e+00,  5.9997e+00, -2.4048e+01,\n",
      "          4.3003e+00,  5.7079e+00, -8.1642e+00,  4.0072e+00, -1.0693e+01],\n",
      "        [ 9.2194e+00, -5.3301e+00,  7.4373e-01, -4.2244e+00, -2.0939e+01,\n",
      "          8.9506e+00,  5.7441e-01, -6.3846e+00,  3.6438e+00,  6.0880e-01],\n",
      "        [ 1.4811e+01,  5.9333e+00, -5.0661e-01,  8.5587e-02, -4.4783e+00,\n",
      "          8.4629e+00,  5.2409e+00,  7.6308e+00,  2.1004e+00,  6.1619e+00],\n",
      "        [ 1.7327e+00, -6.8274e-01, -4.8654e+00,  6.4697e+00, -1.4451e+01,\n",
      "          2.0152e+01,  4.0792e+00,  1.9606e+00,  1.1684e+01, -4.9967e-02],\n",
      "        [ 6.1626e+00, -1.0556e+01,  4.8386e+00, -1.4539e-01, -1.9901e+00,\n",
      "          5.5623e+00,  2.4005e+00, -5.8499e-01,  3.2650e+00,  8.5972e+00],\n",
      "        [ 7.9561e+00, -6.6195e+00,  2.2330e+00, -6.5645e+00, -2.1522e+01,\n",
      "          1.9424e+01,  1.7568e+00,  1.2014e+00,  1.3567e+00, -4.6913e+00],\n",
      "        [ 1.4609e+01, -7.7203e+00,  1.0978e+01,  2.4242e+00, -1.7849e+01,\n",
      "         -6.6676e-01,  1.1302e+01, -3.7908e+00,  5.4017e+00, -2.3442e+00],\n",
      "        [ 8.2610e+00, -1.4998e+01, -6.7049e-01,  3.7801e-01, -2.0791e+01,\n",
      "          4.4986e+00,  5.4147e+00,  2.4657e+00,  3.2085e+00, -1.4845e+00],\n",
      "        [ 1.8856e+01, -6.3135e+00,  5.3326e+00,  1.2596e+00, -1.1607e+01,\n",
      "          9.7144e+00,  6.0030e+00,  1.0051e+00,  5.9824e+00,  3.8680e-01],\n",
      "        [ 1.3604e+01, -1.0629e+01,  7.0342e+00,  5.6202e+00, -9.6696e+00,\n",
      "          7.4831e+00,  2.7423e+00,  2.2203e+00, -1.1686e+00, -6.7113e+00],\n",
      "        [ 1.1947e+01, -7.8673e+00,  7.1235e+00, -4.0418e+00, -2.3203e+01,\n",
      "          9.6108e+00, -3.3971e+00, -4.8687e+00,  1.1341e+00,  1.0867e+00],\n",
      "        [ 7.7000e+00, -3.3511e+00,  4.6632e+00,  7.3991e+00, -1.0317e+01,\n",
      "          7.7013e+00, -1.0260e+00, -1.2979e-01, -3.2018e+00, -6.9867e+00],\n",
      "        [ 3.2439e+00, -1.9657e+00,  3.0603e+00, -5.9493e-01, -5.5943e+00,\n",
      "          1.0055e+01,  8.3744e+00,  9.7347e+00,  5.5676e+00, -7.7260e+00],\n",
      "        [-2.4502e+00, -4.4128e+00, -8.9980e+00,  6.0836e+00, -1.2857e+01,\n",
      "          1.6357e+01,  2.5920e+00,  7.3955e+00, -5.9995e+00, -2.8986e+00],\n",
      "        [ 6.4028e+00, -4.8865e-01,  3.3432e+00, -4.1264e+00, -9.8898e+00,\n",
      "          1.2494e+01, -2.3063e+00,  7.7231e+00, -7.5788e-01, -6.7972e+00],\n",
      "        [ 8.7458e+00,  2.2859e+00, -1.1069e+00,  2.5222e-02, -1.1916e+01,\n",
      "          1.7391e+01, -3.3055e+00,  2.2217e+00, -5.1248e-02, -1.0474e+00],\n",
      "        [ 1.8217e+01, -9.1287e+00,  1.1630e+01,  5.2495e+00, -1.0310e+01,\n",
      "          6.3893e+00,  2.8812e+00, -4.2356e+00,  6.8544e+00, -1.0334e+00],\n",
      "        [ 5.4769e+00, -5.1110e+00,  7.2138e+00, -4.7567e+00, -1.4658e+01,\n",
      "          4.7312e+00,  6.3590e+00, -1.9378e+00, -7.6866e-03, -5.4488e-02],\n",
      "        [ 8.1075e+00, -1.0697e+01,  2.5801e+00,  3.3281e+00, -1.4807e+01,\n",
      "          3.0702e+00, -7.5904e+00,  2.0504e+00, -6.3341e+00, -4.2252e+00],\n",
      "        [ 8.0093e+00, -8.2460e+00,  9.4809e+00,  3.1540e+00, -1.5177e+01,\n",
      "          9.6853e+00,  3.7124e+00, -3.4178e+00, -6.8100e+00,  3.6288e+00],\n",
      "        [ 1.1884e+01,  5.6970e+00,  4.6402e+00,  3.4296e-01, -2.2614e+01,\n",
      "          2.6110e+00,  1.2444e+01,  6.9624e-01,  3.4513e-02, -1.1315e+01],\n",
      "        [ 9.5464e+00, -9.0150e+00,  4.1334e+00, -4.4286e+00, -1.2852e+01,\n",
      "          1.6277e+01,  6.5735e+00,  3.9703e+00,  4.2223e+00, -1.0522e+01],\n",
      "        [ 4.9240e+00, -4.6721e+00,  2.6735e+00, -2.6385e+00, -2.0087e+01,\n",
      "          1.0753e+01, -2.3507e+00, -6.7856e+00, -6.8248e-01, -2.7483e+00],\n",
      "        [ 7.0581e+00, -3.3474e+00, -1.4005e+00, -1.0380e+00, -1.9222e+01,\n",
      "          1.5404e+01,  3.0490e-01,  6.1412e-01, -6.8042e-01, -4.0107e+00],\n",
      "        [ 1.4199e+01, -6.2639e+00,  2.7528e-01,  5.1799e+00, -1.8640e+01,\n",
      "          1.0854e+01,  7.3610e+00,  1.0421e+00, -2.2407e+00,  6.7089e+00],\n",
      "        [ 1.7640e+01, -7.0583e+00,  1.2943e+00,  3.1390e+00, -1.6881e+01,\n",
      "          5.8788e+00, -2.8136e+00,  7.9928e+00, -5.4592e+00, -7.9802e+00],\n",
      "        [ 9.4322e+00,  1.8394e+00,  1.1996e+01,  1.5516e+00, -1.3571e+01,\n",
      "          1.0779e+01, -6.0198e-01,  1.6317e+00, -4.4428e+00, -9.8922e+00],\n",
      "        [ 8.7027e+00, -6.0872e+00,  3.4590e+00,  7.1229e+00, -8.1298e+00,\n",
      "          3.9903e+00,  6.0870e+00, -3.4669e+00,  7.4547e+00, -8.7814e-01],\n",
      "        [ 2.2281e+00, -6.8473e+00,  4.6518e+00, -1.0595e+00, -8.2149e+00,\n",
      "          7.9018e+00,  2.4197e+00, -3.9685e-01,  3.0154e+00, -6.9085e+00],\n",
      "        [ 6.2870e+00, -7.1732e+00, -6.4739e+00, -1.7097e+00, -1.6806e+01,\n",
      "          7.2785e+00, -1.0897e+00,  6.1048e+00,  4.8365e-01, -5.5191e+00],\n",
      "        [ 8.6539e+00, -7.8639e+00,  4.7831e+00,  8.0956e-01, -1.1006e+01,\n",
      "          1.8939e+01, -1.9760e+00, -3.3677e-01,  6.0031e+00, -1.9048e+00],\n",
      "        [ 1.0284e+01, -7.3071e+00, -3.6107e+00,  3.2974e+00, -5.8109e+00,\n",
      "          8.4473e+00, -1.7437e+00,  1.0470e+00,  4.3925e+00, -4.1719e-01],\n",
      "        [ 1.2867e+01, -2.0581e+00,  4.7941e+00, -1.8854e+00, -3.9973e+00,\n",
      "          4.6772e+00,  5.4723e+00,  3.0790e+00,  2.5511e+00, -1.4018e+01],\n",
      "        [ 1.3304e+01, -2.9491e+00,  4.8402e+00, -8.5309e+00, -1.6591e+01,\n",
      "          1.6527e+01,  4.8652e+00, -3.1668e+00,  2.1076e+00, -5.3941e+00],\n",
      "        [ 1.7604e+01, -9.5570e+00, -1.3361e+00,  2.4158e+00, -1.5189e+01,\n",
      "          2.1267e+00, -6.5715e+00,  4.6300e+00, -8.3252e+00, -6.6683e+00],\n",
      "        [ 8.4761e+00, -3.3558e+00,  3.6668e-01, -5.4569e+00, -7.9517e+00,\n",
      "          5.4217e+00,  2.3783e+00,  3.2054e+00, -4.7380e+00, -5.1182e-01],\n",
      "        [ 1.4154e+01,  4.5089e+00,  5.0070e+00, -3.0014e+00, -1.3980e+01,\n",
      "          1.3243e+01,  4.2715e+00, -5.8790e+00, -5.2069e+00, -3.2492e+00],\n",
      "        [ 2.7893e+00, -4.4151e+00, -3.1664e+00, -5.1757e+00, -1.7707e+01,\n",
      "          4.1217e+00,  1.0422e+01,  7.7610e+00,  2.7188e+00, -6.2077e+00],\n",
      "        [ 1.5493e+01, -6.3405e+00,  9.1871e+00,  8.4364e+00, -1.3254e+01,\n",
      "          5.9998e+00,  1.1196e+00,  2.7896e+00,  2.2553e+00, -4.2983e+00],\n",
      "        [ 6.0275e+00, -3.3543e+00,  6.3031e+00,  3.5607e+00, -4.8743e-01,\n",
      "          6.2612e+00,  1.0846e+01, -1.2791e+00, -6.3553e+00, -1.5636e+00],\n",
      "        [ 7.6491e+00, -4.1106e+00,  6.3032e+00, -4.3417e+00, -6.7387e+00,\n",
      "          4.7002e+00,  7.9416e-04,  5.6541e+00, -2.0291e+00, -1.8193e+00],\n",
      "        [ 1.5096e+01,  4.5452e+00,  1.1234e+01, -4.1637e-01, -1.3579e+01,\n",
      "          3.9047e+00,  7.7481e+00,  5.1544e+00, -5.2485e+00, -2.5014e+00],\n",
      "        [ 1.1749e+01, -1.2844e+01,  3.1742e+00, -7.1994e-02, -7.4141e+00,\n",
      "          3.7670e+00,  3.6407e-01,  5.0006e+00,  1.2696e+00, -6.2093e+00],\n",
      "        [ 1.2049e+01, -5.5239e+00,  7.5430e+00, -2.7718e+00, -8.9985e+00,\n",
      "          2.2593e+01,  5.6279e+00, -1.9037e+00,  4.5986e+00, -1.4025e+01],\n",
      "        [-9.3646e-01,  1.7293e+00,  1.1028e+00, -7.1982e+00, -1.8311e+01,\n",
      "          1.4390e+01, -4.4776e+00, -3.3583e+00, -3.7213e-01,  3.1539e+00],\n",
      "        [ 4.5526e+00, -5.8834e+00, -2.8210e+00, -4.4324e+00, -1.7350e+01,\n",
      "          1.1533e+01,  7.8232e+00,  7.1102e+00,  5.5951e+00, -1.6706e+00],\n",
      "        [ 7.6555e+00,  7.5563e-01,  5.5048e+00,  3.9941e+00, -1.9320e+01,\n",
      "          3.8966e+00, -5.3029e+00, -2.7886e+00, -3.0310e-01,  3.4679e+00],\n",
      "        [ 3.0086e+00,  3.6167e+00,  9.8475e+00,  1.1949e+00, -9.4173e+00,\n",
      "          7.0454e+00,  8.4954e+00,  6.6566e+00, -1.6332e+00, -3.3477e+00],\n",
      "        [ 8.6246e+00, -4.8245e+00,  3.7601e+00,  3.3002e-01, -1.3938e+01,\n",
      "          9.1177e+00,  1.0337e+00, -2.5448e+00,  1.1341e+00,  2.1143e+00],\n",
      "        [ 8.9527e+00, -1.0507e+01, -5.4721e+00, -4.8991e+00, -1.4921e+01,\n",
      "          9.2044e+00, -6.8845e+00,  6.8816e+00,  2.6321e+00, -5.9067e+00],\n",
      "        [ 1.0953e+01, -7.1869e+00,  9.3879e+00,  6.1823e-01, -1.4048e+01,\n",
      "          4.2823e+00, -9.3536e-01, -1.1212e+00, -1.6001e+00, -7.9653e+00],\n",
      "        [ 1.0491e+01, -3.9923e+00,  3.0641e+00, -1.1335e+00, -1.5621e+01,\n",
      "          2.3801e+01, -5.9704e+00,  2.6872e+00, -2.7105e+00,  3.1390e+00],\n",
      "        [ 9.2110e+00, -1.1652e+01,  3.0047e+00,  9.2443e-01, -6.4604e+00,\n",
      "          6.2084e+00,  3.5887e+00,  6.8282e+00,  1.0682e+01, -8.5663e+00],\n",
      "        [ 1.0477e+00, -3.2113e+00,  2.6733e+00, -1.3305e+00, -1.2336e+01,\n",
      "          1.4568e+01,  1.0786e+01, -3.4410e+00, -4.9065e+00, -3.4024e+00],\n",
      "        [ 4.0985e+00, -1.5594e-03,  3.1210e+00,  1.6239e-01, -1.9832e+01,\n",
      "          5.5806e+00,  4.0481e+00,  7.0429e-01,  3.4303e-01, -1.4424e-01],\n",
      "        [ 1.1700e+01, -7.8355e+00,  7.6930e+00,  4.3596e+00, -1.2176e+01,\n",
      "          1.3748e+01, -2.8816e+00,  9.2970e+00, -7.2721e+00, -2.5131e-01]])\n"
     ]
    },
    {
     "data": {
      "text/plain": [
       "torch.Size([64, 10])"
      ]
     },
     "execution_count": 6,
     "metadata": {},
     "output_type": "execute_result"
    }
   ],
   "source": [
    "## Your solution\n",
    "def sigmoid(x):\n",
    "    return 1/(1 + torch.exp(-x))\n",
    "\n",
    "# flatten images\n",
    "images = images.view(images.shape[0], -1)\n",
    "\n",
    "# define the size of each layer in the network\n",
    "n_input = images.shape[1] # input should be the second dimension of the images tensor - 784\n",
    "n_hidden = 256\n",
    "n_output = 10\n",
    "\n",
    "# weights\n",
    "# input to hidden layer\n",
    "W1 = torch.randn(n_input, n_hidden)\n",
    "# hidden to output layer\n",
    "W2 = torch.randn(n_hidden, n_output)\n",
    "\n",
    "# bias\n",
    "# input to hidden\n",
    "B1 = torch.randn(n_hidden)\n",
    "# hidden to output\n",
    "B2 = torch.randn(n_output)\n",
    "\n",
    "H = sigmoid(torch.mm(images, W1) + B1)\n",
    "\n",
    "# output of your network, should have shape (64,10)\n",
    "out = torch.mm(H, W2) + B2\n",
    "print(out)\n",
    "out.shape"
   ]
  },
  {
   "cell_type": "markdown",
   "metadata": {},
   "source": [
    "Now we have 10 outputs for our network. We want to pass in an image to our network and get out a probability distribution over the classes that tells us the likely class(es) the image belongs to. Something that looks like this:\n",
    "<img src='assets/image_distribution.png' width=500px>\n",
    "\n",
    "Here we see that the probability for each class is roughly the same. This is representing an untrained network, it hasn't seen any data yet so it just returns a uniform distribution with equal probabilities for each class.\n",
    "\n",
    "To calculate this probability distribution, we often use the [**softmax** function](https://en.wikipedia.org/wiki/Softmax_function). Mathematically this looks like\n",
    "\n",
    "$$\n",
    "\\Large \\sigma(x_i) = \\cfrac{e^{x_i}}{\\sum_k^K{e^{x_k}}}\n",
    "$$\n",
    "\n",
    "What this does is squish each input $x_i$ between 0 and 1 and normalizes the values to give you a proper probability distribution where the probabilites sum up to one.\n",
    "\n",
    "> **Exercise:** Implement a function `softmax` that performs the softmax calculation and returns probability distributions for each example in the batch. Note that you'll need to pay attention to the shapes when doing this. If you have a tensor `a` with shape `(64, 10)` and a tensor `b` with shape `(64,)`, doing `a/b` will give you an error because PyTorch will try to do the division across the columns (called broadcasting) but you'll get a size mismatch. The way to think about this is for each of the 64 examples, you only want to divide by one value, the sum in the denominator. So you need `b` to have a shape of `(64, 1)`. This way PyTorch will divide the 10 values in each row of `a` by the one value in each row of `b`. Pay attention to how you take the sum as well. You'll need to define the `dim` keyword in `torch.sum`. Setting `dim=0` takes the sum across the rows while `dim=1` takes the sum across the columns."
   ]
  },
  {
   "cell_type": "code",
   "execution_count": 7,
   "metadata": {},
   "outputs": [
    {
     "data": {
      "text/plain": [
       "tensor([1.4667e+07, 9.1407e+05, 3.1510e+04, 2.0932e+04, 8.4802e+05, 4.4121e+06,\n",
       "        1.3976e+07, 1.7961e+05, 1.8104e+07, 1.7847e+04, 2.7147e+06, 5.6491e+08,\n",
       "        6.3164e+03, 2.7272e+08, 2.3506e+06, 4.2232e+03, 1.5453e+08, 8.1274e+05,\n",
       "        1.7045e+05, 6.1615e+03, 4.4804e+04, 1.2706e+07, 2.6976e+05, 3.5718e+07,\n",
       "        8.1668e+07, 2.2904e+03, 3.3896e+03, 3.2298e+04, 3.9919e+05, 1.1735e+07,\n",
       "        4.6930e+04, 4.8977e+06, 1.5219e+06, 4.5822e+07, 2.2258e+05, 9.5136e+03,\n",
       "        2.8488e+03, 2.4365e+03, 1.6786e+08, 3.4040e+04, 3.8787e+05, 1.5646e+07,\n",
       "        4.4185e+07, 5.0626e+03, 1.9668e+06, 3.6015e+04, 5.3645e+06, 5.2855e+04,\n",
       "        3.0419e+03, 3.6750e+06, 1.2680e+05, 6.4853e+09, 1.7764e+06, 1.0608e+05,\n",
       "        2.4966e+03, 2.5790e+04, 1.4741e+04, 1.8657e+04, 6.9168e+04, 2.1706e+10,\n",
       "        5.5051e+04, 2.1707e+06, 4.1192e+02, 1.0684e+06])"
      ]
     },
     "execution_count": 7,
     "metadata": {},
     "output_type": "execute_result"
    }
   ],
   "source": [
    "torch.exp(out).shape\n",
    "# out.shape\n",
    "(torch.exp(out)/torch.sum(torch.exp(out), dim=1).view(64,1))\n",
    "torch.sum(torch.exp(out), dim=1)"
   ]
  },
  {
   "cell_type": "code",
   "execution_count": 8,
   "metadata": {},
   "outputs": [
    {
     "name": "stdout",
     "output_type": "stream",
     "text": [
      "torch.Size([64, 10])\n",
      "tensor([1.0000, 1.0000, 1.0000, 1.0000, 1.0000, 1.0000, 1.0000, 1.0000, 1.0000,\n",
      "        1.0000, 1.0000, 1.0000, 1.0000, 1.0000, 1.0000, 1.0000, 1.0000, 1.0000,\n",
      "        1.0000, 1.0000, 1.0000, 1.0000, 1.0000, 1.0000, 1.0000, 1.0000, 1.0000,\n",
      "        1.0000, 1.0000, 1.0000, 1.0000, 1.0000, 1.0000, 1.0000, 1.0000, 1.0000,\n",
      "        1.0000, 1.0000, 1.0000, 1.0000, 1.0000, 1.0000, 1.0000, 1.0000, 1.0000,\n",
      "        1.0000, 1.0000, 1.0000, 1.0000, 1.0000, 1.0000, 1.0000, 1.0000, 1.0000,\n",
      "        1.0000, 1.0000, 1.0000, 1.0000, 1.0000, 1.0000, 1.0000, 1.0000, 1.0000,\n",
      "        1.0000])\n"
     ]
    }
   ],
   "source": [
    "def softmax(x):\n",
    "    ## TODO: Implement the softmax function here\n",
    "    return torch.exp(x)/torch.sum(torch.exp(x), dim=1).view(64, 1)\n",
    "    # the input is of shape (64,10)\n",
    "    # for the denominator(divider), sum across columns by using dim=1\n",
    "    # this means \"squish\" a row of 10 elements into a row of one element which is the sum\n",
    "    # but we end up with one row of 64 elements (\"squish\"ing does that, the dim=1 part), \n",
    "    # and we need 64 rows of 1 element each, which is why we use view(64, 1) on the sum result\n",
    "    # could've used view(-1,1) as well for a more general case since it'll just add 1 column and\n",
    "    # figure out the number of rows from the data, since it was 64 elements, it would make 64 rows\n",
    "    # and 1 column, and the value in each row would be one of the elements\n",
    "\n",
    "# Here, out should be the output of the network in the previous excercise with shape (64,10)\n",
    "probabilities = softmax(out)\n",
    "\n",
    "# Does it have the right shape? Should be (64, 10)\n",
    "print(probabilities.shape)\n",
    "# Does it sum to 1?\n",
    "print(probabilities.sum(dim=1))"
   ]
  },
  {
   "cell_type": "markdown",
   "metadata": {},
   "source": [
    "## Building networks with PyTorch\n",
    "\n",
    "PyTorch provides a module `nn` that makes building networks much simpler. Here I'll show you how to build the same one as above with 784 inputs, 256 hidden units, 10 output units and a softmax output."
   ]
  },
  {
   "cell_type": "code",
   "execution_count": 9,
   "metadata": {},
   "outputs": [],
   "source": [
    "from torch import nn"
   ]
  },
  {
   "cell_type": "code",
   "execution_count": 11,
   "metadata": {},
   "outputs": [],
   "source": [
    "class Network(nn.Module):\n",
    "    def __init__(self):\n",
    "        super().__init__()\n",
    "        \n",
    "        # Inputs to hidden layer linear transformation\n",
    "        self.hidden = nn.Linear(784, 256)\n",
    "        # Output layer, 10 units - one for each digit\n",
    "        self.output = nn.Linear(256, 10)\n",
    "        \n",
    "        # Define sigmoid activation and softmax output \n",
    "        self.sigmoid = nn.Sigmoid()\n",
    "        self.softmax = nn.Softmax(dim=1)\n",
    "        \n",
    "    def forward(self, x):\n",
    "        # Pass the input tensor through each of our operations\n",
    "        x = self.hidden(x)\n",
    "        x = self.sigmoid(x)\n",
    "        x = self.output(x)\n",
    "        x = self.softmax(x)\n",
    "        \n",
    "        return x"
   ]
  },
  {
   "cell_type": "markdown",
   "metadata": {},
   "source": [
    "Let's go through this bit by bit.\n",
    "\n",
    "```python\n",
    "class Network(nn.Module):\n",
    "```\n",
    "\n",
    "Here we're inheriting from `nn.Module`. Combined with `super().__init__()` this creates a class that tracks the architecture and provides a lot of useful methods and attributes. It is mandatory to inherit from `nn.Module` when you're creating a class for your network. The name of the class itself can be anything.\n",
    "\n",
    "```python\n",
    "self.hidden = nn.Linear(784, 256)\n",
    "```\n",
    "\n",
    "This line creates a module for a linear transformation, $x\\mathbf{W} + b$, with 784 inputs and 256 outputs and assigns it to `self.hidden`. The module automatically creates the weight and bias tensors which we'll use in the `forward` method. You can access the weight and bias tensors once the network (`net`) is created with `net.hidden.weight` and `net.hidden.bias`.\n",
    "\n",
    "```python\n",
    "self.output = nn.Linear(256, 10)\n",
    "```\n",
    "\n",
    "Similarly, this creates another linear transformation with 256 inputs and 10 outputs.\n",
    "\n",
    "```python\n",
    "self.sigmoid = nn.Sigmoid()\n",
    "self.softmax = nn.Softmax(dim=1)\n",
    "```\n",
    "\n",
    "Here I defined operations for the sigmoid activation and softmax output. Setting `dim=1` in `nn.Softmax(dim=1)` calculates softmax across the columns.\n",
    "\n",
    "```python\n",
    "def forward(self, x):\n",
    "```\n",
    "\n",
    "PyTorch networks created with `nn.Module` must have a `forward` method defined. It takes in a tensor `x` and passes it through the operations you defined in the `__init__` method.\n",
    "\n",
    "```python\n",
    "x = self.hidden(x)\n",
    "x = self.sigmoid(x)\n",
    "x = self.output(x)\n",
    "x = self.softmax(x)\n",
    "```\n",
    "\n",
    "Here the input tensor `x` is passed through each operation a reassigned to `x`. We can see that the input tensor goes through the hidden layer, then a sigmoid function, then the output layer, and finally the softmax function. It doesn't matter what you name the variables here, as long as the inputs and outputs of the operations match the network architecture you want to build. The order in which you define things in the `__init__` method doesn't matter, but you'll need to sequence the operations correctly in the `forward` method.\n",
    "\n",
    "Now we can create a `Network` object."
   ]
  },
  {
   "cell_type": "code",
   "execution_count": 12,
   "metadata": {},
   "outputs": [
    {
     "data": {
      "text/plain": [
       "Network(\n",
       "  (hidden): Linear(in_features=784, out_features=256, bias=True)\n",
       "  (output): Linear(in_features=256, out_features=10, bias=True)\n",
       "  (sigmoid): Sigmoid()\n",
       "  (softmax): Softmax()\n",
       ")"
      ]
     },
     "execution_count": 12,
     "metadata": {},
     "output_type": "execute_result"
    }
   ],
   "source": [
    "# Create the network and look at it's text representation\n",
    "model = Network()\n",
    "model"
   ]
  },
  {
   "cell_type": "markdown",
   "metadata": {},
   "source": [
    "You can define the network somewhat more concisely and clearly using the `torch.nn.functional` module. This is the most common way you'll see networks defined as many operations are simple element-wise functions. We normally import this module as `F`, `import torch.nn.functional as F`."
   ]
  },
  {
   "cell_type": "code",
   "execution_count": 13,
   "metadata": {},
   "outputs": [],
   "source": [
    "import torch.nn.functional as F\n",
    "\n",
    "class Network(nn.Module):\n",
    "    def __init__(self):\n",
    "        super().__init__()\n",
    "        # Inputs to hidden layer linear transformation\n",
    "        self.hidden = nn.Linear(784, 256)\n",
    "        # Output layer, 10 units - one for each digit\n",
    "        self.output = nn.Linear(256, 10)\n",
    "        \n",
    "    def forward(self, x):\n",
    "        # Hidden layer with sigmoid activation\n",
    "        x = F.sigmoid(self.hidden(x))\n",
    "        # Output layer with softmax activation\n",
    "        x = F.softmax(self.output(x), dim=1)\n",
    "        \n",
    "        return x"
   ]
  },
  {
   "cell_type": "markdown",
   "metadata": {},
   "source": [
    "### Activation functions\n",
    "\n",
    "So far we've only been looking at the softmax activation, but in general any function can be used as an activation function. The only requirement is that for a network to approximate a non-linear function, the activation functions must be non-linear. Here are a few more examples of common activation functions: Tanh (hyperbolic tangent), and ReLU (rectified linear unit).\n",
    "\n",
    "<img src=\"assets/activation.png\" width=700px>\n",
    "\n",
    "In practice, the ReLU function is used almost exclusively as the activation function for hidden layers."
   ]
  },
  {
   "cell_type": "markdown",
   "metadata": {},
   "source": [
    "### Your Turn to Build a Network\n",
    "\n",
    "<img src=\"assets/mlp_mnist.png\" width=600px>\n",
    "\n",
    "> **Exercise:** Create a network with 784 input units, a hidden layer with 128 units and a ReLU activation, then a hidden layer with 64 units and a ReLU activation, and finally an output layer with a softmax activation as shown above. You can use a ReLU activation with the `nn.ReLU` module or `F.relu` function."
   ]
  },
  {
   "cell_type": "code",
   "execution_count": 42,
   "metadata": {
    "scrolled": true
   },
   "outputs": [
    {
     "data": {
      "text/plain": [
       "Network(\n",
       "  (fc1): Linear(in_features=784, out_features=128, bias=True)\n",
       "  (fc2): Linear(in_features=128, out_features=64, bias=True)\n",
       "  (output): Linear(in_features=64, out_features=10, bias=True)\n",
       ")"
      ]
     },
     "execution_count": 42,
     "metadata": {},
     "output_type": "execute_result"
    }
   ],
   "source": [
    "## Your solution here\n",
    "from torch import nn\n",
    "import torch.nn.functional as F\n",
    "\n",
    "class Network(nn.Module):\n",
    "    def __init__(self):\n",
    "        super().__init__()\n",
    "        \n",
    "        self.fc1 = nn.Linear(784, 128)\n",
    "        self.fc2 = nn.Linear(128, 64)\n",
    "        self.output = nn.Linear(64, 10)\n",
    "    \n",
    "    def forward(self, x):\n",
    "        x = F.relu(self.fc1(x))\n",
    "        x = F.relu(self.fc2(x))\n",
    "        x = F.softmax(self.output(x), dim=1)\n",
    "        \n",
    "        return x\n",
    "\n",
    "model = Network()\n",
    "model"
   ]
  },
  {
   "cell_type": "markdown",
   "metadata": {},
   "source": [
    "### Initializing weights and biases\n",
    "\n",
    "The weights and such are automatically initialized for you, but it's possible to customize how they are initialized. The weights and biases are tensors attached to the layer you defined, you can get them with `model.fc1.weight` for instance."
   ]
  },
  {
   "cell_type": "code",
   "execution_count": 43,
   "metadata": {},
   "outputs": [
    {
     "name": "stdout",
     "output_type": "stream",
     "text": [
      "Parameter containing:\n",
      "tensor([[-0.0355,  0.0172,  0.0036,  ...,  0.0211, -0.0032, -0.0152],\n",
      "        [ 0.0096,  0.0182, -0.0139,  ..., -0.0299, -0.0292,  0.0127],\n",
      "        [ 0.0295,  0.0205, -0.0019,  ..., -0.0275,  0.0081,  0.0298],\n",
      "        ...,\n",
      "        [-0.0224, -0.0094,  0.0279,  ..., -0.0263, -0.0311, -0.0206],\n",
      "        [ 0.0293,  0.0081,  0.0172,  ..., -0.0060, -0.0227, -0.0325],\n",
      "        [ 0.0088,  0.0064,  0.0091,  ..., -0.0028,  0.0169,  0.0320]],\n",
      "       requires_grad=True)\n",
      "Parameter containing:\n",
      "tensor([ 0.0331, -0.0348, -0.0108,  0.0078,  0.0096,  0.0280, -0.0229,  0.0058,\n",
      "         0.0268, -0.0123, -0.0185, -0.0194, -0.0101, -0.0332, -0.0113, -0.0162,\n",
      "         0.0024, -0.0054, -0.0331, -0.0085,  0.0324,  0.0134,  0.0335,  0.0246,\n",
      "        -0.0013, -0.0050,  0.0313, -0.0023,  0.0053,  0.0217, -0.0128,  0.0154,\n",
      "         0.0061, -0.0229,  0.0207,  0.0299,  0.0093,  0.0091,  0.0261, -0.0300,\n",
      "        -0.0286, -0.0032,  0.0295, -0.0083,  0.0330, -0.0054, -0.0047,  0.0145,\n",
      "        -0.0293, -0.0206,  0.0125,  0.0083, -0.0056,  0.0246,  0.0085, -0.0086,\n",
      "        -0.0048,  0.0037, -0.0286, -0.0060, -0.0093,  0.0032, -0.0105, -0.0004,\n",
      "        -0.0310, -0.0220,  0.0337, -0.0046,  0.0000,  0.0041, -0.0248,  0.0336,\n",
      "        -0.0020,  0.0244,  0.0214, -0.0153,  0.0007,  0.0308, -0.0017,  0.0096,\n",
      "         0.0145, -0.0080, -0.0093,  0.0073, -0.0241, -0.0073, -0.0337, -0.0328,\n",
      "         0.0114, -0.0123, -0.0138, -0.0275, -0.0221, -0.0060,  0.0137,  0.0332,\n",
      "         0.0118, -0.0332, -0.0099,  0.0135, -0.0165,  0.0268, -0.0275, -0.0355,\n",
      "         0.0073,  0.0244, -0.0315,  0.0306,  0.0326, -0.0338, -0.0220, -0.0264,\n",
      "         0.0098,  0.0046,  0.0168, -0.0320, -0.0238,  0.0249,  0.0081, -0.0172,\n",
      "         0.0227, -0.0055,  0.0294,  0.0044, -0.0323, -0.0069, -0.0040, -0.0303],\n",
      "       requires_grad=True)\n"
     ]
    }
   ],
   "source": [
    "print(model.fc1.weight)\n",
    "print(model.fc1.bias)"
   ]
  },
  {
   "cell_type": "markdown",
   "metadata": {},
   "source": [
    "For custom initialization, we want to modify these tensors in place. These are actually autograd *Variables*, so we need to get back the actual tensors with `model.fc1.weight.data`. Once we have the tensors, we can fill them with zeros (for biases) or random normal values."
   ]
  },
  {
   "cell_type": "code",
   "execution_count": 29,
   "metadata": {},
   "outputs": [
    {
     "data": {
      "text/plain": [
       "tensor([0., 0., 0., 0., 0., 0., 0., 0., 0., 0., 0., 0., 0., 0., 0., 0., 0., 0.,\n",
       "        0., 0., 0., 0., 0., 0., 0., 0., 0., 0., 0., 0., 0., 0., 0., 0., 0., 0.,\n",
       "        0., 0., 0., 0., 0., 0., 0., 0., 0., 0., 0., 0., 0., 0., 0., 0., 0., 0.,\n",
       "        0., 0., 0., 0., 0., 0., 0., 0., 0., 0., 0., 0., 0., 0., 0., 0., 0., 0.,\n",
       "        0., 0., 0., 0., 0., 0., 0., 0., 0., 0., 0., 0., 0., 0., 0., 0., 0., 0.,\n",
       "        0., 0., 0., 0., 0., 0., 0., 0., 0., 0., 0., 0., 0., 0., 0., 0., 0., 0.,\n",
       "        0., 0., 0., 0., 0., 0., 0., 0., 0., 0., 0., 0., 0., 0., 0., 0., 0., 0.,\n",
       "        0., 0.])"
      ]
     },
     "execution_count": 29,
     "metadata": {},
     "output_type": "execute_result"
    }
   ],
   "source": [
    "# Set biases to all zeros\n",
    "model.fc1.bias.data.fill_(0)"
   ]
  },
  {
   "cell_type": "code",
   "execution_count": 30,
   "metadata": {},
   "outputs": [
    {
     "data": {
      "text/plain": [
       "tensor([[ 0.0066,  0.0032,  0.0195,  ..., -0.0050, -0.0048,  0.0000],\n",
       "        [ 0.0012,  0.0086, -0.0097,  ..., -0.0000, -0.0146,  0.0093],\n",
       "        [ 0.0019,  0.0017, -0.0132,  ...,  0.0020,  0.0046, -0.0028],\n",
       "        ...,\n",
       "        [-0.0173,  0.0062, -0.0058,  ...,  0.0054,  0.0022,  0.0021],\n",
       "        [-0.0050,  0.0064,  0.0066,  ..., -0.0130, -0.0104, -0.0104],\n",
       "        [ 0.0024,  0.0058, -0.0040,  ...,  0.0173, -0.0145,  0.0075]])"
      ]
     },
     "execution_count": 30,
     "metadata": {},
     "output_type": "execute_result"
    }
   ],
   "source": [
    "# sample from random normal with standard dev = 0.01\n",
    "model.fc1.weight.data.normal_(std=0.01)"
   ]
  },
  {
   "cell_type": "markdown",
   "metadata": {},
   "source": [
    "### Forward pass\n",
    "\n",
    "Now that we have a network, let's see what happens when we pass in an image."
   ]
  },
  {
   "cell_type": "code",
   "execution_count": 44,
   "metadata": {},
   "outputs": [
    {
     "data": {
      "image/png": "[encoded data removed]",
      "text/plain": [
       "<Figure size 432x648 with 2 Axes>"
      ]
     },
     "metadata": {
      "image/png": {
       "height": 226,
       "width": 423
      },
      "needs_background": "light"
     },
     "output_type": "display_data"
    }
   ],
   "source": [
    "# Grab some data \n",
    "dataiter = iter(trainloader)\n",
    "images, labels = dataiter.next()\n",
    "\n",
    "# Resize images into a 1D vector, new shape is (batch size, color channels, image pixels) \n",
    "images.resize_(64, 1, 784)\n",
    "# or images.resize_(images.shape[0], 1, 784) to automatically get batch size\n",
    "\n",
    "# Forward pass through the network\n",
    "img_idx = 0\n",
    "ps = model.forward(images[img_idx,:])\n",
    "\n",
    "img = images[img_idx]\n",
    "helper.view_classify(img.view(1, 28, 28), ps)"
   ]
  },
  {
   "cell_type": "markdown",
   "metadata": {},
   "source": [
    "As you can see above, our network has basically no idea what this digit is. It's because we haven't trained it yet, all the weights are random!\n",
    "\n",
    "### Using `nn.Sequential`\n",
    "\n",
    "PyTorch provides a convenient way to build networks like this where a tensor is passed sequentially through operations, `nn.Sequential` ([documentation](https://pytorch.org/docs/master/nn.html#torch.nn.Sequential)). Using this to build the equivalent network:"
   ]
  },
  {
   "cell_type": "code",
   "execution_count": 45,
   "metadata": {},
   "outputs": [
    {
     "name": "stdout",
     "output_type": "stream",
     "text": [
      "Sequential(\n",
      "  (0): Linear(in_features=784, out_features=128, bias=True)\n",
      "  (1): ReLU()\n",
      "  (2): Linear(in_features=128, out_features=64, bias=True)\n",
      "  (3): ReLU()\n",
      "  (4): Linear(in_features=64, out_features=10, bias=True)\n",
      "  (5): Softmax()\n",
      ")\n"
     ]
    },
    {
     "data": {
      "image/png": "[encoded data removed]",
      "text/plain": [
       "<Figure size 432x648 with 2 Axes>"
      ]
     },
     "metadata": {
      "image/png": {
       "height": 226,
       "width": 423
      },
      "needs_background": "light"
     },
     "output_type": "display_data"
    }
   ],
   "source": [
    "# Hyperparameters for our network\n",
    "input_size = 784\n",
    "hidden_sizes = [128, 64]\n",
    "output_size = 10\n",
    "\n",
    "# Build a feed-forward network\n",
    "model = nn.Sequential(nn.Linear(input_size, hidden_sizes[0]),\n",
    "                      nn.ReLU(),\n",
    "                      nn.Linear(hidden_sizes[0], hidden_sizes[1]),\n",
    "                      nn.ReLU(),\n",
    "                      nn.Linear(hidden_sizes[1], output_size),\n",
    "                      nn.Softmax(dim=1))\n",
    "print(model)\n",
    "\n",
    "# Forward pass through the network and display output\n",
    "images, labels = next(iter(trainloader))\n",
    "images.resize_(images.shape[0], 1, 784)\n",
    "ps = model.forward(images[0,:])\n",
    "helper.view_classify(images[0].view(1, 28, 28), ps)"
   ]
  },
  {
   "cell_type": "markdown",
   "metadata": {},
   "source": [
    "Here our model is the same as before: 784 input units, a hidden layer with 128 units, ReLU activation, 64 unit hidden layer, another ReLU, then the output layer with 10 units, and the softmax output.\n",
    "\n",
    "The operations are available by passing in the appropriate index. For example, if you want to get first Linear operation and look at the weights, you'd use `model[0]`."
   ]
  },
  {
   "cell_type": "code",
   "execution_count": 46,
   "metadata": {},
   "outputs": [
    {
     "name": "stdout",
     "output_type": "stream",
     "text": [
      "Linear(in_features=784, out_features=128, bias=True)\n"
     ]
    },
    {
     "data": {
      "text/plain": [
       "Parameter containing:\n",
       "tensor([[-0.0273, -0.0264,  0.0132,  ..., -0.0325, -0.0300, -0.0130],\n",
       "        [-0.0045, -0.0270,  0.0303,  ...,  0.0191,  0.0264,  0.0249],\n",
       "        [ 0.0134, -0.0353,  0.0129,  ...,  0.0095,  0.0309, -0.0334],\n",
       "        ...,\n",
       "        [-0.0171,  0.0103,  0.0274,  ...,  0.0000,  0.0262,  0.0194],\n",
       "        [ 0.0118, -0.0235,  0.0212,  ...,  0.0128, -0.0247,  0.0331],\n",
       "        [-0.0028, -0.0315,  0.0080,  ...,  0.0321,  0.0003,  0.0171]],\n",
       "       requires_grad=True)"
      ]
     },
     "execution_count": 46,
     "metadata": {},
     "output_type": "execute_result"
    }
   ],
   "source": [
    "print(model[0])\n",
    "model[0].weight"
   ]
  },
  {
   "cell_type": "markdown",
   "metadata": {},
   "source": [
    "You can also pass in an `OrderedDict` to name the individual layers and operations, instead of using incremental integers. Note that dictionary keys must be unique, so _each operation must have a different name_."
   ]
  },
  {
   "cell_type": "code",
   "execution_count": 47,
   "metadata": {},
   "outputs": [
    {
     "data": {
      "text/plain": [
       "Sequential(\n",
       "  (fc1): Linear(in_features=784, out_features=128, bias=True)\n",
       "  (relu1): ReLU()\n",
       "  (fc2): Linear(in_features=128, out_features=64, bias=True)\n",
       "  (relu2): ReLU()\n",
       "  (output): Linear(in_features=64, out_features=10, bias=True)\n",
       "  (softmax): Softmax()\n",
       ")"
      ]
     },
     "execution_count": 47,
     "metadata": {},
     "output_type": "execute_result"
    }
   ],
   "source": [
    "from collections import OrderedDict\n",
    "model = nn.Sequential(OrderedDict([\n",
    "                      ('fc1', nn.Linear(input_size, hidden_sizes[0])),\n",
    "                      ('relu1', nn.ReLU()),\n",
    "                      ('fc2', nn.Linear(hidden_sizes[0], hidden_sizes[1])),\n",
    "                      ('relu2', nn.ReLU()),\n",
    "                      ('output', nn.Linear(hidden_sizes[1], output_size)),\n",
    "                      ('softmax', nn.Softmax(dim=1))]))\n",
    "model"
   ]
  },
  {
   "cell_type": "markdown",
   "metadata": {},
   "source": [
    "Now you can access layers either by integer or the name"
   ]
  },
  {
   "cell_type": "code",
   "execution_count": 48,
   "metadata": {},
   "outputs": [
    {
     "name": "stdout",
     "output_type": "stream",
     "text": [
      "Linear(in_features=784, out_features=128, bias=True)\n",
      "Linear(in_features=784, out_features=128, bias=True)\n"
     ]
    }
   ],
   "source": [
    "print(model[0])\n",
    "print(model.fc1)"
   ]
  },
  {
   "cell_type": "markdown",
   "metadata": {},
   "source": [
    "In the next notebook, we'll see how we can train a neural network to accuractly predict the numbers appearing in the MNIST images."
   ]
  }
 ],
 "metadata": {
  "kernelspec": {
   "display_name": "Python 3",
   "language": "python",
   "name": "python3"
  },
  "language_info": {
   "codemirror_mode": {
    "name": "ipython",
    "version": 3
   },
   "file_extension": ".py",
   "mimetype": "text/x-python",
   "name": "python",
   "nbconvert_exporter": "python",
   "pygments_lexer": "ipython3",
   "version": "3.7.1"
  }
 },
 "nbformat": 4,
 "nbformat_minor": 2
}
