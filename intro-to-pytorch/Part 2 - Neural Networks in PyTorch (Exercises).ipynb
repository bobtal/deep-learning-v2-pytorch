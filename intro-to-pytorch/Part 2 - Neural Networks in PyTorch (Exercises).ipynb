{
 "cells": [
  {
   "cell_type": "markdown",
   "metadata": {},
   "source": [
    "# Neural networks with PyTorch\n",
    "\n",
    "Deep learning networks tend to be massive with dozens or hundreds of layers, that's where the term \"deep\" comes from. You can build one of these deep networks using only weight matrices as we did in the previous notebook, but in general it's very cumbersome and difficult to implement. PyTorch has a nice module `nn` that provides a nice way to efficiently build large neural networks."
   ]
  },
  {
   "cell_type": "code",
   "execution_count": 1,
   "metadata": {},
   "outputs": [],
   "source": [
    "# Import necessary packages\n",
    "\n",
    "%matplotlib inline\n",
    "%config InlineBackend.figure_format = 'retina'\n",
    "\n",
    "import numpy as np\n",
    "import torch\n",
    "\n",
    "import helper\n",
    "\n",
    "import matplotlib.pyplot as plt"
   ]
  },
  {
   "cell_type": "markdown",
   "metadata": {},
   "source": [
    "\n",
    "Now we're going to build a larger network that can solve a (formerly) difficult problem, identifying text in an image. Here we'll use the MNIST dataset which consists of greyscale handwritten digits. Each image is 28x28 pixels, you can see a sample below\n",
    "\n",
    "<img src='assets/mnist.png'>\n",
    "\n",
    "Our goal is to build a neural network that can take one of these images and predict the digit in the image.\n",
    "\n",
    "First up, we need to get our dataset. This is provided through the `torchvision` package. The code below will download the MNIST dataset, then create training and test datasets for us. Don't worry too much about the details here, you'll learn more about this later."
   ]
  },
  {
   "cell_type": "code",
   "execution_count": 2,
   "metadata": {},
   "outputs": [],
   "source": [
    "### Run this cell\n",
    "\n",
    "from torchvision import datasets, transforms\n",
    "\n",
    "# Define a transform to normalize the data\n",
    "transform = transforms.Compose([transforms.ToTensor(),\n",
    "                              transforms.Normalize((0.5,), (0.5,)),\n",
    "                              ])\n",
    "\n",
    "# Download and load the training data\n",
    "trainset = datasets.MNIST('./.pytorch/MNIST_data/', download=True, train=True, transform=transform)\n",
    "trainloader = torch.utils.data.DataLoader(trainset, batch_size=64, shuffle=True)"
   ]
  },
  {
   "cell_type": "markdown",
   "metadata": {},
   "source": [
    "We have the training data loaded into `trainloader` and we make that an iterator with `iter(trainloader)`. Later, we'll use this to loop through the dataset for training, like\n",
    "\n",
    "```python\n",
    "for image, label in trainloader:\n",
    "    ## do things with images and labels\n",
    "```\n",
    "\n",
    "You'll notice I created the `trainloader` with a batch size of 64, and `shuffle=True`. The batch size is the number of images we get in one iteration from the data loader and pass through our network, often called a *batch*. And `shuffle=True` tells it to shuffle the dataset every time we start going through the data loader again. But here I'm just grabbing the first batch so we can check out the data. We can see below that `images` is just a tensor with size `(64, 1, 28, 28)`. So, 64 images per batch, 1 color channel, and 28x28 images."
   ]
  },
  {
   "cell_type": "code",
   "execution_count": 3,
   "metadata": {},
   "outputs": [
    {
     "name": "stdout",
     "output_type": "stream",
     "text": [
      "<class 'torch.Tensor'>\n",
      "torch.Size([64, 1, 28, 28])\n",
      "torch.Size([64])\n"
     ]
    }
   ],
   "source": [
    "dataiter = iter(trainloader)\n",
    "images, labels = dataiter.next()\n",
    "print(type(images))\n",
    "print(images.shape)\n",
    "print(labels.shape)"
   ]
  },
  {
   "cell_type": "markdown",
   "metadata": {},
   "source": [
    "This is what one of the images looks like. "
   ]
  },
  {
   "cell_type": "code",
   "execution_count": 4,
   "metadata": {},
   "outputs": [
    {
     "data": {
      "image/png": "[encoded data removed]",
      "text/plain": [
       "<Figure size 432x288 with 1 Axes>"
      ]
     },
     "metadata": {
      "image/png": {
       "height": 250,
       "width": 253
      },
      "needs_background": "light"
     },
     "output_type": "display_data"
    }
   ],
   "source": [
    "plt.imshow(images[1].numpy().squeeze(), cmap='Greys_r');"
   ]
  },
  {
   "cell_type": "markdown",
   "metadata": {},
   "source": [
    "First, let's try to build a simple network for this dataset using weight matrices and matrix multiplications. Then, we'll see how to do it using PyTorch's `nn` module which provides a much more convenient and powerful method for defining network architectures.\n",
    "\n",
    "The networks you've seen so far are called *fully-connected* or *dense* networks. Each unit in one layer is connected to each unit in the next layer. In fully-connected networks, the input to each layer must be a one-dimensional vector (which can be stacked into a 2D tensor as a batch of multiple examples). However, our images are 28x28 2D tensors, so we need to convert them into 1D vectors. Thinking about sizes, we need to convert the batch of images with shape `(64, 1, 28, 28)` to a have a shape of `(64, 784)`, 784 is 28 times 28. This is typically called *flattening*, we flattened the 2D images into 1D vectors.\n",
    "\n",
    "Previously you built a network with one output unit. Here we need 10 output units, one for each digit. We want our network to predict the digit shown in an image, so what we'll do is calculate probabilities that the image is of any one digit or class. This ends up being a discrete probability distribution over the classes (digits) that tells us the most likely class for the image. That means we need 10 output units for the 10 classes (digits). We'll see how to convert the network output into a probability distribution next.\n",
    "\n",
    "> **Exercise:** Flatten the batch of images `images`. Then build a multi-layer network with 784 input units, 256 hidden units, and 10 output units using random tensors for the weights and biases. For now, use a sigmoid activation for the hidden layer. Leave the output layer without an activation, we'll add one that gives us a probability distribution next."
   ]
  },
  {
   "cell_type": "code",
   "execution_count": 5,
   "metadata": {},
   "outputs": [
    {
     "data": {
      "text/plain": [
       "torch.Size([64, 1, 28, 28])"
      ]
     },
     "execution_count": 5,
     "metadata": {},
     "output_type": "execute_result"
    }
   ],
   "source": [
    "images.shape"
   ]
  },
  {
   "cell_type": "code",
   "execution_count": 6,
   "metadata": {},
   "outputs": [
    {
     "data": {
      "text/plain": [
       "torch.Size([64, 10])"
      ]
     },
     "execution_count": 6,
     "metadata": {},
     "output_type": "execute_result"
    }
   ],
   "source": [
    "## Your solution\n",
    "\n",
    "def activation(x):\n",
    "    \"\"\" Sigmoid activation function \n",
    "    \n",
    "        Arguments\n",
    "        ---------\n",
    "        x: torch.Tensor\n",
    "    \"\"\"\n",
    "    return 1/(1+torch.exp(-x))\n",
    "\n",
    "# flatten the images\n",
    "images = images.view(64, -1)\n",
    "# this also works\n",
    "# images = images.view(images.shape[0], -1)\n",
    "\n",
    "### Generate some data\n",
    "torch.manual_seed(7) # Set the random seed so things are predictable\n",
    "\n",
    "# Define the size of each layer in our network\n",
    "n_input = images.shape[1]     # Number of input units, must match number of input features\n",
    "n_hidden = 256                # Number of hidden units \n",
    "n_output = 10                 # Number of output units\n",
    "\n",
    "# Weights for inputs to hidden layer\n",
    "W1 = torch.randn(n_input, n_hidden)\n",
    "# Weights for hidden layer to output layer\n",
    "W2 = torch.randn(n_hidden, n_output)\n",
    "\n",
    "# and bias terms for hidden and output layers\n",
    "B1 = torch.randn(n_hidden)\n",
    "B2 = torch.randn(n_output)\n",
    "\n",
    "# hidden layer with activation (sigmoid)\n",
    "H = activation(torch.mm(images, W1) + B1)\n",
    "\n",
    "# no activation for the output layer\n",
    "# output of your network, should have shape (64,10)\n",
    "out = torch.mm(H, W2) + B2\n",
    "out.shape"
   ]
  },
  {
   "cell_type": "markdown",
   "metadata": {},
   "source": [
    "Now we have 10 outputs for our network. We want to pass in an image to our network and get out a probability distribution over the classes that tells us the likely class(es) the image belongs to. Something that looks like this:\n",
    "<img src='assets/image_distribution.png' width=500px>\n",
    "\n",
    "Here we see that the probability for each class is roughly the same. This is representing an untrained network, it hasn't seen any data yet so it just returns a uniform distribution with equal probabilities for each class.\n",
    "\n",
    "To calculate this probability distribution, we often use the [**softmax** function](https://en.wikipedia.org/wiki/Softmax_function). Mathematically this looks like\n",
    "\n",
    "$$\n",
    "\\Large \\sigma(x_i) = \\cfrac{e^{x_i}}{\\sum_k^K{e^{x_k}}}\n",
    "$$\n",
    "\n",
    "What this does is squish each input $x_i$ between 0 and 1 and normalizes the values to give you a proper probability distribution where the probabilites sum up to one.\n",
    "\n",
    "> **Exercise:** Implement a function `softmax` that performs the softmax calculation and returns probability distributions for each example in the batch. Note that you'll need to pay attention to the shapes when doing this. If you have a tensor `a` with shape `(64, 10)` and a tensor `b` with shape `(64,)`, doing `a/b` will give you an error because PyTorch will try to do the division across the columns (called broadcasting) but you'll get a size mismatch. The way to think about this is for each of the 64 examples, you only want to divide by one value, the sum in the denominator. So you need `b` to have a shape of `(64, 1)`. This way PyTorch will divide the 10 values in each row of `a` by the one value in each row of `b`. Pay attention to how you take the sum as well. You'll need to define the `dim` keyword in `torch.sum`. Setting `dim=0` takes the sum across the rows while `dim=1` takes the sum across the columns."
   ]
  },
  {
   "cell_type": "code",
   "execution_count": 7,
   "metadata": {},
   "outputs": [
    {
     "data": {
      "text/plain": [
       "tensor([[-23.0278,  -7.2752,  -0.6235,  -2.7547,  14.0569,  -4.6733,  -3.2922,\n",
       "          -8.3252,  -7.8528,  -3.3444],\n",
       "        [-16.7173,   0.8083,   5.9066,   4.1016,  -0.9510,  12.2677, -10.0961,\n",
       "         -13.5693, -10.6794,   4.0060],\n",
       "        [-12.4169,  -5.1963,   0.3489, -12.4059,   4.1352,   7.3898,  -2.0794,\n",
       "          -2.7574, -13.5141,  -1.0182],\n",
       "        [-17.2212,  -5.8856,  -0.9909, -21.2997,   6.9674,   9.8742,  -5.4252,\n",
       "           9.7132,  -7.2282,   3.4207],\n",
       "        [-13.5828,   6.4034,   1.4228,  -9.3672,  12.8174,   6.6062,  -8.2344,\n",
       "           9.1692, -11.9263,  -8.1658],\n",
       "        [-22.7040, -12.4746,  -8.1152, -12.0531,   9.1387,   4.7316,  -4.3613,\n",
       "           2.7847,  -7.7801,   0.7622],\n",
       "        [-18.7163, -15.9880,  -2.7488, -13.7715,   2.8109,  14.2678,  -6.8974,\n",
       "          -0.4666, -12.6516,   0.2807],\n",
       "        [-20.3463, -11.4218,   2.4430,  -9.6395,   8.7117,   7.5318,  -6.0896,\n",
       "           3.3385, -11.5311,  -1.5477],\n",
       "        [ -6.4930, -10.7680,  -4.5235,  -2.8816,   5.0445,   9.4729,  -2.7843,\n",
       "          -2.7937, -17.6854,  -3.5846],\n",
       "        [ -5.2360,   2.0927,   0.8443,  -6.5011,   3.9926,   0.9073, -11.8871,\n",
       "          -1.1132, -22.5647,  -0.4720],\n",
       "        [-14.0895,  -9.2008,  -7.6663,   1.9461,   8.6312,  10.7593,  -8.3890,\n",
       "          -1.9803,  -9.9515, -10.2473],\n",
       "        [-13.6370, -15.7678,  -2.6411,  -6.9552,   4.6738,  -4.1784,  -0.0892,\n",
       "           5.0972,  -7.6005,  -7.1717],\n",
       "        [-20.3291, -13.4389, -11.9217, -10.4343,  12.6850,   1.7544,  -7.1496,\n",
       "           2.2910,  -7.5199,  -8.8169],\n",
       "        [-12.0852, -11.4746,   0.1973,  -2.3554,  12.6212,   3.0524, -10.5489,\n",
       "           9.2592, -17.0453,  -9.0882],\n",
       "        [-17.7798,  -3.5377,  -2.2340,  -4.7071,  10.7179,   3.3005,  -7.5794,\n",
       "          -2.4304,  -8.8387,   1.4587],\n",
       "        [-21.1550, -12.1785,  -5.6746, -15.6952,   5.2302,  13.7594, -11.1913,\n",
       "           1.2170, -14.0336,   0.0417],\n",
       "        [-13.6089, -12.2355, -14.4513,  -9.5342,   4.6923,   9.1095,   7.1655,\n",
       "          -4.5096, -20.3347,  -5.8958],\n",
       "        [-22.2868,  -8.8122,  -7.7924, -14.1549,  11.3555,   6.1139,  -5.0948,\n",
       "           2.4289, -12.9288, -12.4908],\n",
       "        [-11.9470, -10.9845,  -4.2111, -10.6794,   0.9590,   1.0015, -10.1031,\n",
       "           7.0519, -10.5520,  -2.1513],\n",
       "        [-13.5301, -11.9413,   5.2881,  -7.1059,  10.0290,   3.7596,  -7.9417,\n",
       "           6.1396, -20.9709,  -2.7689],\n",
       "        [-11.9752,  -0.8858,   7.9820,  -6.1555,   9.0905,  -2.5486,  -4.1960,\n",
       "           5.0308, -16.8777,   2.8708],\n",
       "        [-17.5239,  -4.7637,  -2.4941, -15.5638,   8.6373,   7.6061,   2.3964,\n",
       "          13.6720, -11.0762,  -5.7853],\n",
       "        [-15.3825,  -5.1855,   0.1136, -11.3928,   6.4450,  10.1072,  -5.5120,\n",
       "          11.5151,  -1.5705,  -6.4453],\n",
       "        [ -8.5823, -13.9042,   1.0999,  -7.5774,   6.4686,   5.6879,   4.5826,\n",
       "          -6.5901,  -9.6822, -13.9392],\n",
       "        [-23.3213,  -4.1046,  -0.1599, -14.1140,  12.0453,   5.2370, -13.3312,\n",
       "          11.1730,  -9.9650,   6.9296],\n",
       "        [-13.0578, -10.3727,  -3.0556,  -5.6093,   9.7757,   4.9397, -10.9307,\n",
       "          -1.9181,  -6.9108,  -2.3468],\n",
       "        [-20.0118,  -3.8570,  -4.1685, -14.4546,  11.4559,  -8.6255,  -5.2546,\n",
       "           4.5058, -11.4712,  -2.0980],\n",
       "        [ -9.2843, -14.0719,  -1.4175,  -5.2476,   6.5975,   9.4065,  -6.0751,\n",
       "           3.5324,  -8.3007,  -9.3563],\n",
       "        [-20.5360, -11.9654, -17.2882, -11.1140,   1.7335,   3.7252,  -6.8858,\n",
       "           9.1322, -16.4053,   3.0852],\n",
       "        [-18.7037, -12.2679,  -7.6616, -10.1836,   7.3331,   4.8695,  -6.7428,\n",
       "          -5.4323, -19.4434,  -6.9797],\n",
       "        [-10.9841, -13.2997,  -4.3872,  -9.9303,   9.6911,  16.8810,  -2.7529,\n",
       "           2.5030,  -5.8786,  -1.9622],\n",
       "        [-14.7455, -11.5227,  -8.7908,  -5.9749,   6.9698,   5.2990,  -2.8867,\n",
       "          -0.1218, -17.7963,  -1.0930],\n",
       "        [-18.0217,  -2.1926,   7.6649,  -1.1248,   9.7263,   9.6941,   1.9838,\n",
       "          -3.5463, -13.2284,  -6.4372],\n",
       "        [-14.3099,  -0.6278,  -3.3320,  -0.7644,   4.3165,   9.6875, -16.2369,\n",
       "          -6.4844,  -4.3711,  -0.2583],\n",
       "        [-19.4184,  -8.1592,   4.0320, -13.2851,   1.0860,   5.5127, -14.0793,\n",
       "           0.4338, -14.8818,  -6.0494],\n",
       "        [-21.3353,   9.4499,  -3.9962, -18.7484,   5.1661,  -5.4116, -13.4777,\n",
       "          -0.9551, -11.5641,   9.4551],\n",
       "        [ -4.4107,  -9.5380,  -1.3254, -11.1774,   5.7819,   7.6282,  -9.1463,\n",
       "           1.3900,  -2.9886,  -1.5751],\n",
       "        [-23.7952,  -8.1832,  -0.9111, -14.5629,   5.7745,   1.6144,  -5.8365,\n",
       "          -1.5517, -13.7691,   1.5892],\n",
       "        [-11.0969,  -5.8747,   2.2483,   0.6626,  16.5746,   2.5720,  -6.8567,\n",
       "           4.0832, -11.4070,  -1.4469],\n",
       "        [-21.2447, -14.2166, -16.2294,  -9.9171,  11.5107,  13.3234,   3.7040,\n",
       "          -1.4015, -14.5825,  -3.0510],\n",
       "        [-21.2425,   0.4514, -11.1978, -16.6828,   1.6414,   9.5780,  -3.6824,\n",
       "          11.7070, -14.5767,  -5.7442],\n",
       "        [-12.4527, -11.4724,  12.5087,  -6.8703,   5.6538,   6.2916,   2.8023,\n",
       "          10.6065, -18.2069,   1.6636],\n",
       "        [-17.4596, -12.2437,   6.3993,  -9.5609,   5.9284,  19.2526,  -7.3250,\n",
       "         -10.1741, -10.3712,   3.9704],\n",
       "        [-10.1026,  -6.7337,   3.9016, -14.1105,   0.1480,   7.4801,  -6.2931,\n",
       "           5.0068, -14.4572,  -1.4922],\n",
       "        [-12.3224,  -3.7223,  -6.1973,  -7.0952,   3.0271,   7.1596,  -1.1794,\n",
       "          -1.3262, -16.0947,   5.2967],\n",
       "        [-11.5412,  -4.3596,   0.1283, -11.1309,   6.9527,   1.2699,   1.2272,\n",
       "          -2.8817, -20.7744,  -0.0690],\n",
       "        [-22.1662,  -0.8145,  -4.0341,  -9.4186,   2.3152,   8.5720,  -4.8839,\n",
       "          -0.5680,  -8.4469,   0.6014],\n",
       "        [-11.3858, -14.1206,   4.5419,  -6.8146,   8.1483,   8.0994,  -6.5562,\n",
       "           3.8957,  -7.8420,  -1.9113],\n",
       "        [-18.8945,  -0.2593,   3.4792, -16.8775,   6.2150,  10.5099,   4.3708,\n",
       "           3.9882, -13.3764,   1.8177],\n",
       "        [ -8.6609, -11.6652,  -0.4965, -10.1270,  11.7050,   3.3648,  -4.2980,\n",
       "           4.4839, -18.3493,  -6.2024],\n",
       "        [ -2.1389, -15.4909,  -7.6733,  -8.4016,   7.5275,   1.5262, -10.3948,\n",
       "          -0.9894, -16.4638,   2.6487],\n",
       "        [-18.6620,  -3.3441,   6.0622,  -0.5348,  11.1806,   9.5593,   1.6046,\n",
       "           6.2896,  -7.3411,  -4.8276],\n",
       "        [-12.3106,  -8.3524,   7.6017,  -9.0064,   6.8904,   2.5778,  -5.1724,\n",
       "           1.4319,  -8.7655,  -2.1157],\n",
       "        [-11.0283,  -8.6607,  -1.6461, -18.0628,  11.0912,   2.0582,   2.7381,\n",
       "           2.7713, -14.5155,  -3.6091],\n",
       "        [-12.3008,  -5.5328,  -2.0753, -11.6030,   2.6230,   9.9140,  -6.5316,\n",
       "           2.1694,  -9.1071,  -5.7014],\n",
       "        [-20.3473, -15.9270,   1.8098, -12.6664,   4.2617,  17.0419,  -0.6526,\n",
       "          -1.7100, -13.3262,  -2.3114],\n",
       "        [-19.6134, -11.7615,  -5.4240,  -7.7275,   7.8012,  19.1959, -16.3246,\n",
       "           5.1069, -15.0996,   1.7746],\n",
       "        [-10.1768, -17.0915,  -4.3377,  -8.6921,  11.9228,   6.6425,  13.2792,\n",
       "           7.2062, -16.6021,  -6.3921],\n",
       "        [-12.7766,  -5.2739,  -2.8271, -14.9597,   4.9082,  10.0543,  -5.5969,\n",
       "           7.1248, -10.7606, -12.7233],\n",
       "        [-12.3847, -10.3672,   2.7483,  -6.1365,  12.1867,  11.8460,   2.1510,\n",
       "           3.7668, -12.5856,  -0.6514],\n",
       "        [-23.0045,   2.8464,  -4.3960,  -1.1709,  10.4705,   3.9638, -17.3830,\n",
       "          -0.2106, -10.8731,   1.1179],\n",
       "        [-15.7196,  -5.9856,   4.9536,  -8.8606,   5.5106,   7.0880,  -9.1770,\n",
       "           3.8080, -15.6125,  -3.6408],\n",
       "        [-13.1393, -18.5654,   0.8500, -11.1996,   4.8280,  10.0290,  -2.3495,\n",
       "           2.7627, -11.0732,  -8.2904],\n",
       "        [-13.5390, -13.6472,  -0.2036,  -9.0332,   4.6069,   7.8746,   1.1840,\n",
       "           4.2071, -15.4566,  -3.6059]])"
      ]
     },
     "execution_count": 7,
     "metadata": {},
     "output_type": "execute_result"
    }
   ],
   "source": [
    "out"
   ]
  },
  {
   "cell_type": "code",
   "execution_count": 8,
   "metadata": {},
   "outputs": [
    {
     "data": {
      "text/plain": [
       "tensor([[-47.1123],\n",
       "        [-24.9230],\n",
       "        [-37.5143],\n",
       "        [-28.0752],\n",
       "        [-14.8576],\n",
       "        [-50.0713],\n",
       "        [-53.8806],\n",
       "        [-38.5509],\n",
       "        [-36.9969],\n",
       "        [-39.9374],\n",
       "        [-40.1882],\n",
       "        [-48.2698],\n",
       "        [-62.8798],\n",
       "        [-37.4673],\n",
       "        [-31.6300],\n",
       "        [-59.6800],\n",
       "        [-59.6028],\n",
       "        [-63.6625],\n",
       "        [-51.6160],\n",
       "        [-39.0425],\n",
       "        [-17.6645],\n",
       "        [-24.8950],\n",
       "        [-17.3077],\n",
       "        [-42.4363],\n",
       "        [-29.6113],\n",
       "        [-39.4865],\n",
       "        [-53.9796],\n",
       "        [-34.2169],\n",
       "        [-66.5186],\n",
       "        [-75.2124],\n",
       "        [-20.1201],\n",
       "        [-50.6630],\n",
       "        [-15.4818],\n",
       "        [-32.3809],\n",
       "        [-64.8087],\n",
       "        [-51.4172],\n",
       "        [-25.3614],\n",
       "        [-59.6315],\n",
       "        [-10.5414],\n",
       "        [-52.1046],\n",
       "        [-49.7485],\n",
       "        [ -9.4759],\n",
       "        [-31.5839],\n",
       "        [-36.6528],\n",
       "        [-32.4542],\n",
       "        [-41.1786],\n",
       "        [-38.8437],\n",
       "        [-23.9453],\n",
       "        [-19.0270],\n",
       "        [-40.2456],\n",
       "        [-49.8502],\n",
       "        [ -0.0134],\n",
       "        [-27.2212],\n",
       "        [-38.8638],\n",
       "        [-38.1456],\n",
       "        [-43.8276],\n",
       "        [-42.0720],\n",
       "        [-24.2417],\n",
       "        [-42.8307],\n",
       "        [ -9.4266],\n",
       "        [-38.6395],\n",
       "        [-37.6358],\n",
       "        [-46.1475],\n",
       "        [-37.6129]])"
      ]
     },
     "execution_count": 8,
     "metadata": {},
     "output_type": "execute_result"
    }
   ],
   "source": [
    "torch.sum(out, dim=1).view(64,1)"
   ]
  },
  {
   "cell_type": "code",
   "execution_count": 9,
   "metadata": {},
   "outputs": [
    {
     "data": {
      "text/plain": [
       "torch.Size([64, 10])"
      ]
     },
     "execution_count": 9,
     "metadata": {},
     "output_type": "execute_result"
    }
   ],
   "source": [
    "out.shape"
   ]
  },
  {
   "cell_type": "code",
   "execution_count": 10,
   "metadata": {},
   "outputs": [
    {
     "data": {
      "text/plain": [
       "torch.Size([64, 1])"
      ]
     },
     "execution_count": 10,
     "metadata": {},
     "output_type": "execute_result"
    }
   ],
   "source": [
    "torch.sum(torch.exp(out), dim=1).view(64,1).shape"
   ]
  },
  {
   "cell_type": "code",
   "execution_count": 11,
   "metadata": {},
   "outputs": [
    {
     "data": {
      "text/plain": [
       "tensor([[7.8395e-17, 5.4396e-10, 4.2107e-07, 4.9982e-08, 1.0000e+00, 7.3377e-09,\n",
       "         2.9199e-08, 1.9036e-10, 3.0529e-10, 2.7715e-08],\n",
       "        [2.5761e-13, 1.0526e-05, 1.7236e-03, 2.8347e-04, 1.8122e-06, 9.9772e-01,\n",
       "         1.9344e-10, 5.9998e-12, 1.0794e-10, 2.5762e-04],\n",
       "        [2.4051e-09, 3.2882e-06, 8.4181e-04, 2.4316e-09, 3.7119e-02, 9.6171e-01,\n",
       "         7.4240e-05, 3.7685e-05, 8.0278e-10, 2.1453e-04],\n",
       "        [8.9570e-13, 7.5017e-08, 1.0020e-05, 1.5167e-14, 2.8651e-02, 5.2424e-01,\n",
       "         1.1887e-07, 4.4628e-01, 1.9590e-08, 8.2568e-04],\n",
       "        [3.3254e-12, 1.5912e-03, 1.0932e-05, 2.2525e-10, 9.7116e-01, 1.9490e-03,\n",
       "         6.9925e-10, 2.5287e-02, 1.7428e-11, 7.4886e-10],\n",
       "        [1.4615e-14, 4.0489e-10, 3.1666e-08, 6.1716e-10, 9.8604e-01, 1.2020e-02,\n",
       "         1.3517e-06, 1.7154e-03, 4.4274e-08, 2.2701e-04],\n",
       "        [4.7334e-15, 7.2453e-14, 4.0716e-08, 6.6475e-13, 1.0576e-05, 9.9999e-01,\n",
       "         6.4277e-10, 3.9895e-07, 2.0371e-12, 8.4228e-07],\n",
       "        [1.8268e-13, 1.3727e-09, 1.4421e-03, 8.1583e-09, 7.6110e-01, 2.3390e-01,\n",
       "         2.8400e-07, 3.5308e-03, 1.2306e-09, 2.6660e-05],\n",
       "        [1.1507e-07, 1.6008e-09, 8.2470e-07, 4.2595e-06, 1.1793e-02, 9.8819e-01,\n",
       "         4.6948e-06, 4.6512e-06, 1.5854e-12, 2.1090e-06],\n",
       "        [7.8180e-05, 1.1910e-01, 3.4178e-02, 2.2064e-05, 7.9623e-01, 3.6400e-02,\n",
       "         1.0106e-07, 4.8265e-03, 2.3299e-12, 9.1643e-03],\n",
       "        [1.4434e-11, 1.9165e-09, 8.8912e-09, 1.3292e-04, 1.0638e-01, 8.9348e-01,\n",
       "         4.3162e-09, 2.6202e-06, 9.0468e-10, 6.7302e-10],\n",
       "        [4.4004e-09, 5.2252e-10, 2.6239e-04, 3.5103e-06, 3.9423e-01, 5.6405e-05,\n",
       "         3.3668e-03, 6.0208e-01, 1.8411e-06, 2.8270e-06],\n",
       "        [4.5935e-15, 4.5135e-12, 2.0579e-11, 9.1069e-11, 9.9995e-01, 1.7901e-05,\n",
       "         2.4317e-09, 3.0613e-05, 1.6792e-09, 4.5901e-10],\n",
       "        [1.8002e-11, 3.3151e-11, 3.8862e-06, 3.0265e-07, 9.6643e-01, 6.7532e-05,\n",
       "         8.3665e-11, 3.3503e-02, 1.2624e-13, 3.6049e-10],\n",
       "        [4.2006e-13, 6.4357e-07, 2.3701e-06, 1.9986e-07, 9.9930e-01, 6.0033e-04,\n",
       "         1.1305e-08, 1.9475e-06, 3.2091e-09, 9.5167e-05],\n",
       "        [6.8672e-16, 5.4354e-12, 3.6293e-09, 1.6140e-13, 1.9757e-04, 9.9980e-01,\n",
       "         1.4586e-11, 3.5712e-06, 8.5025e-13, 1.1025e-06],\n",
       "        [1.1773e-10, 4.6488e-10, 5.0702e-11, 6.9262e-09, 1.0447e-02, 8.6564e-01,\n",
       "         1.2391e-01, 1.0535e-06, 1.4122e-13, 2.6340e-07],\n",
       "        [2.4377e-15, 1.7337e-09, 4.8068e-09, 8.2918e-12, 9.9460e-01, 5.2633e-03,\n",
       "         7.1348e-08, 1.3210e-04, 2.8256e-11, 4.3786e-11],\n",
       "        [5.5826e-09, 1.4615e-08, 1.2778e-05, 1.9831e-08, 2.2482e-03, 2.3457e-03,\n",
       "         3.5288e-08, 9.9529e-01, 2.2524e-08, 1.0024e-04],\n",
       "        [5.6898e-11, 2.7869e-10, 8.4679e-03, 3.5084e-08, 9.6985e-01, 1.8362e-03,\n",
       "         1.5210e-08, 1.9840e-02, 3.3391e-14, 2.6832e-06],\n",
       "        [5.2622e-10, 3.4450e-05, 2.4459e-01, 1.7726e-07, 7.4110e-01, 6.5325e-06,\n",
       "         1.2578e-06, 1.2787e-02, 3.9087e-12, 1.4746e-03],\n",
       "        [2.8052e-14, 9.7644e-09, 9.4476e-08, 1.9916e-13, 6.4512e-03, 2.3004e-03,\n",
       "         1.2567e-05, 9.9124e-01, 1.7708e-11, 3.5154e-09],\n",
       "        [1.6644e-12, 4.4647e-08, 8.9360e-06, 8.9946e-11, 5.0215e-03, 1.9557e-01,\n",
       "         3.2209e-08, 7.9940e-01, 1.6587e-06, 1.2666e-08],\n",
       "        [1.8009e-07, 8.7944e-10, 2.8868e-03, 4.9190e-07, 6.1941e-01, 2.8375e-01,\n",
       "         9.3950e-02, 1.3203e-06, 5.9947e-08, 8.4916e-10],\n",
       "        [3.0665e-16, 6.7974e-08, 3.5117e-06, 3.0574e-12, 7.0171e-01, 7.7508e-04,\n",
       "         6.6880e-12, 2.9330e-01, 1.9374e-10, 4.2118e-03],\n",
       "        [1.2025e-10, 1.7628e-09, 2.6547e-06, 2.0652e-07, 9.9211e-01, 7.8759e-03,\n",
       "         1.0090e-09, 8.2792e-06, 5.6194e-08, 5.3928e-06],\n",
       "        [2.1546e-14, 2.2351e-07, 1.6368e-07, 5.5822e-12, 9.9904e-01, 1.8982e-09,\n",
       "         5.5247e-08, 9.5764e-04, 1.1028e-10, 1.2979e-06],\n",
       "        [7.1800e-09, 5.9822e-11, 1.8733e-05, 4.0666e-07, 5.6690e-02, 9.4065e-01,\n",
       "         1.7776e-07, 2.6443e-03, 1.9200e-08, 6.6812e-09],\n",
       "        [1.2943e-13, 6.8263e-10, 3.3307e-12, 1.5995e-09, 6.0752e-04, 4.4516e-03,\n",
       "         1.0971e-07, 9.9259e-01, 8.0536e-12, 2.3474e-03],\n",
       "        [4.5382e-12, 2.8309e-09, 2.8339e-07, 2.2756e-08, 9.2155e-01, 7.8448e-02,\n",
       "         7.1028e-07, 2.6336e-06, 2.1659e-12, 5.6047e-07],\n",
       "        [7.9071e-13, 7.8048e-14, 5.7943e-10, 2.2682e-12, 7.5358e-04, 9.9925e-01,\n",
       "         2.9703e-09, 5.6936e-07, 1.3041e-10, 6.5492e-09],\n",
       "        [3.1179e-10, 7.8254e-09, 1.2022e-07, 2.0086e-06, 8.4084e-01, 1.5815e-01,\n",
       "         4.4063e-05, 6.9961e-04, 1.4755e-11, 2.6489e-04],\n",
       "        [4.2444e-13, 3.1790e-06, 6.0723e-02, 9.2474e-06, 4.7710e-01, 4.6195e-01,\n",
       "         2.0706e-04, 8.2111e-07, 5.1227e-11, 4.5590e-08],\n",
       "        [3.7670e-11, 3.2963e-05, 2.2061e-06, 2.8754e-05, 4.6272e-03, 9.9526e-01,\n",
       "         5.4839e-12, 9.4306e-08, 7.8049e-07, 4.7700e-05],\n",
       "        [1.1944e-11, 9.2675e-07, 1.8262e-01, 5.5059e-09, 9.5964e-03, 8.0278e-01,\n",
       "         2.4884e-09, 4.9987e-03, 1.1153e-09, 7.6431e-06],\n",
       "        [2.1136e-14, 4.9530e-01, 7.1661e-07, 2.8085e-13, 6.8303e-03, 1.7401e-07,\n",
       "         5.4640e-11, 1.4998e-05, 3.7033e-10, 4.9785e-01],\n",
       "        [5.0946e-06, 3.0225e-08, 1.1144e-04, 5.8665e-09, 1.3605e-01, 8.6204e-01,\n",
       "         4.4719e-08, 1.6840e-03, 2.1122e-05, 8.6818e-05],\n",
       "        [1.3934e-13, 8.3997e-07, 1.2092e-03, 1.4243e-09, 9.6830e-01, 1.5111e-02,\n",
       "         8.7789e-06, 6.3724e-04, 3.1501e-09, 1.4736e-02],\n",
       "        [9.6032e-13, 1.7797e-10, 5.9997e-07, 1.2288e-07, 9.9999e-01, 8.2933e-07,\n",
       "         6.6662e-11, 3.7587e-06, 7.0425e-13, 1.4906e-08],\n",
       "        [8.3486e-16, 9.4156e-13, 1.2581e-13, 6.9359e-11, 1.4031e-01, 8.5963e-01,\n",
       "         5.7106e-05, 3.4626e-07, 6.5309e-13, 6.6530e-08],\n",
       "        [4.3790e-15, 1.1559e-05, 1.0086e-10, 4.1842e-13, 3.7995e-05, 1.0630e-01,\n",
       "         1.8518e-07, 8.9365e-01, 3.4379e-12, 2.3561e-08],\n",
       "        [1.2526e-11, 3.3384e-11, 8.6777e-01, 3.3281e-09, 9.1483e-04, 1.7312e-03,\n",
       "         5.2841e-05, 1.2951e-01, 3.9702e-14, 1.6921e-05],\n",
       "        [1.1379e-16, 2.0957e-14, 2.6175e-06, 3.0654e-13, 1.6346e-06, 1.0000e+00,\n",
       "         2.8675e-12, 1.6602e-13, 1.3632e-13, 2.3070e-07],\n",
       "        [2.0769e-08, 6.0330e-07, 2.5083e-02, 3.7743e-10, 5.8779e-04, 8.9847e-01,\n",
       "         9.3734e-07, 7.5747e-02, 2.6684e-10, 1.1399e-04],\n",
       "        [2.9531e-09, 1.6042e-05, 1.3501e-06, 5.5008e-07, 1.3692e-02, 8.5344e-01,\n",
       "         2.0398e-04, 1.7613e-04, 6.7915e-11, 1.3247e-01],\n",
       "        [9.2139e-09, 1.2117e-05, 1.0775e-03, 1.3888e-08, 9.9136e-01, 3.3748e-03,\n",
       "         3.2335e-03, 5.3115e-05, 9.0058e-13, 8.8465e-04],\n",
       "        [4.4619e-14, 8.3644e-05, 3.3435e-06, 1.5336e-08, 1.9127e-03, 9.9755e-01,\n",
       "         1.4292e-06, 1.0703e-04, 4.0525e-08, 3.4464e-04],\n",
       "        [1.6474e-09, 1.0693e-10, 1.3617e-02, 1.5923e-07, 5.0158e-01, 4.7764e-01,\n",
       "         2.0618e-07, 7.1360e-03, 5.6994e-08, 2.1455e-05],\n",
       "        [1.6671e-13, 2.0660e-05, 8.6844e-04, 1.2529e-12, 1.3392e-02, 9.8199e-01,\n",
       "         2.1181e-03, 1.4447e-03, 4.1538e-11, 1.6488e-04],\n",
       "        [1.4281e-09, 7.0802e-11, 5.0183e-06, 3.2967e-10, 9.9903e-01, 2.3849e-04,\n",
       "         1.1209e-07, 7.3029e-04, 8.8545e-14, 1.6692e-08],\n",
       "        [6.2726e-05, 9.9717e-11, 2.4768e-07, 1.1956e-07, 9.8976e-01, 2.4501e-03,\n",
       "         1.6291e-08, 1.9800e-04, 3.7690e-11, 7.5283e-03],\n",
       "        [9.0424e-14, 4.0623e-07, 4.9416e-03, 6.7431e-06, 8.2562e-01, 1.6317e-01,\n",
       "         5.7274e-05, 6.2032e-03, 7.4625e-09, 9.2154e-08],\n",
       "        [1.5004e-09, 7.8558e-08, 6.6677e-01, 4.0848e-08, 3.2740e-01, 4.3867e-03,\n",
       "         1.8892e-06, 1.3947e-03, 5.1974e-08, 4.0156e-05],\n",
       "        [2.4739e-10, 2.6399e-09, 2.9377e-06, 2.1794e-13, 9.9940e-01, 1.1933e-04,\n",
       "         2.3553e-04, 2.4349e-04, 7.5668e-12, 4.1257e-07],\n",
       "        [2.2476e-10, 1.9545e-07, 6.2028e-06, 4.5162e-10, 6.8085e-04, 9.9888e-01,\n",
       "         7.1988e-08, 4.3256e-04, 5.4796e-09, 1.6513e-07],\n",
       "        [5.7817e-17, 4.8059e-15, 2.4253e-07, 1.2527e-13, 2.8160e-06, 1.0000e+00,\n",
       "         2.0671e-08, 7.1801e-09, 6.4760e-14, 3.9353e-09],\n",
       "        [1.3975e-17, 3.5924e-14, 2.0310e-11, 2.0291e-12, 1.1255e-05, 9.9999e-01,\n",
       "         3.7466e-16, 7.6070e-07, 1.2754e-15, 2.7166e-08],\n",
       "        [5.1571e-11, 5.1211e-14, 1.7713e-08, 2.2761e-10, 2.0423e-01, 1.0397e-03,\n",
       "         7.9290e-01, 1.8270e-03, 8.3547e-14, 2.2702e-09],\n",
       "        [1.1473e-10, 2.0801e-07, 2.4027e-06, 1.2929e-11, 5.4968e-03, 9.4406e-01,\n",
       "         1.5058e-07, 5.0436e-02, 8.6143e-10, 1.2101e-10],\n",
       "        [1.2455e-11, 9.3662e-11, 4.6508e-05, 6.4406e-09, 5.8425e-01, 4.1554e-01,\n",
       "         2.5594e-05, 1.2879e-04, 1.0189e-11, 1.5527e-06],\n",
       "        [2.8913e-15, 4.8748e-04, 3.4884e-07, 8.7761e-06, 9.9790e-01, 1.4902e-03,\n",
       "         7.9883e-13, 2.2927e-05, 5.3664e-10, 8.6554e-05],\n",
       "        [9.1297e-11, 1.5412e-06, 8.6836e-02, 8.6954e-08, 1.5157e-01, 7.3396e-01,\n",
       "         6.3369e-08, 2.7619e-02, 1.0162e-10, 1.6077e-05],\n",
       "        [8.6174e-11, 3.7921e-13, 1.0253e-04, 5.9952e-10, 5.4765e-03, 9.9372e-01,\n",
       "         4.1817e-06, 6.9428e-04, 6.8028e-10, 1.0996e-08],\n",
       "        [4.7069e-10, 4.2243e-10, 2.9124e-04, 4.2618e-08, 3.5762e-02, 9.3879e-01,\n",
       "         1.1665e-03, 2.3976e-02, 6.9176e-11, 9.6973e-06]])"
      ]
     },
     "execution_count": 11,
     "metadata": {},
     "output_type": "execute_result"
    }
   ],
   "source": [
    "torch.div(torch.exp(out),torch.sum(torch.exp(out), dim=1).view(64,1))"
   ]
  },
  {
   "cell_type": "code",
   "execution_count": 12,
   "metadata": {},
   "outputs": [
    {
     "name": "stdout",
     "output_type": "stream",
     "text": [
      "torch.Size([64, 10])\n",
      "tensor([1.0000, 1.0000, 1.0000, 1.0000, 1.0000, 1.0000, 1.0000, 1.0000, 1.0000,\n",
      "        1.0000, 1.0000, 1.0000, 1.0000, 1.0000, 1.0000, 1.0000, 1.0000, 1.0000,\n",
      "        1.0000, 1.0000, 1.0000, 1.0000, 1.0000, 1.0000, 1.0000, 1.0000, 1.0000,\n",
      "        1.0000, 1.0000, 1.0000, 1.0000, 1.0000, 1.0000, 1.0000, 1.0000, 1.0000,\n",
      "        1.0000, 1.0000, 1.0000, 1.0000, 1.0000, 1.0000, 1.0000, 1.0000, 1.0000,\n",
      "        1.0000, 1.0000, 1.0000, 1.0000, 1.0000, 1.0000, 1.0000, 1.0000, 1.0000,\n",
      "        1.0000, 1.0000, 1.0000, 1.0000, 1.0000, 1.0000, 1.0000, 1.0000, 1.0000,\n",
      "        1.0000])\n"
     ]
    }
   ],
   "source": [
    "def softmax(x):\n",
    "    ## TODO: Implement the softmax function here\n",
    "    return torch.div(torch.exp(x),torch.sum(torch.exp(x), dim=1).view(64, 1))\n",
    "# seems you can just use \"/\" instead of torch.div()\n",
    "#     return torch.exp(x)/torch.sum(torch.exp(x), dim=1).view(64, 1)\n",
    "# also you can use view(-1, 1) to make the last dimension 1 and \n",
    "# adjust the first accordingly\n",
    "#     return torch.exp(x)/torch.sum(torch.exp(x), dim=1).view(-1, 1)\n",
    "\n",
    "# Here, out should be the output of the network in the previous excercise with shape (64,10)\n",
    "probabilities = softmax(out)\n",
    "\n",
    "# Does it have the right shape? Should be (64, 10)\n",
    "print(probabilities.shape)\n",
    "# Does it sum to 1?\n",
    "print(probabilities.sum(dim=1))"
   ]
  },
  {
   "cell_type": "markdown",
   "metadata": {},
   "source": [
    "## Building networks with PyTorch\n",
    "\n",
    "PyTorch provides a module `nn` that makes building networks much simpler. Here I'll show you how to build the same one as above with 784 inputs, 256 hidden units, 10 output units and a softmax output."
   ]
  },
  {
   "cell_type": "code",
   "execution_count": 15,
   "metadata": {},
   "outputs": [],
   "source": [
    "from torch import nn"
   ]
  },
  {
   "cell_type": "code",
   "execution_count": 16,
   "metadata": {},
   "outputs": [],
   "source": [
    "class Network(nn.Module):\n",
    "    def __init__(self):\n",
    "        super().__init__()\n",
    "        \n",
    "        # Inputs to hidden layer linear transformation\n",
    "        self.hidden = nn.Linear(784, 256)\n",
    "        # Output layer, 10 units - one for each digit\n",
    "        self.output = nn.Linear(256, 10)\n",
    "        \n",
    "        # Define sigmoid activation and softmax output \n",
    "        self.sigmoid = nn.Sigmoid()\n",
    "        self.softmax = nn.Softmax(dim=1)\n",
    "        \n",
    "    def forward(self, x):\n",
    "        # Pass the input tensor through each of our operations\n",
    "        x = self.hidden(x)\n",
    "        x = self.sigmoid(x)\n",
    "        x = self.output(x)\n",
    "        x = self.softmax(x)\n",
    "        \n",
    "        return x"
   ]
  },
  {
   "cell_type": "markdown",
   "metadata": {},
   "source": [
    "Let's go through this bit by bit.\n",
    "\n",
    "```python\n",
    "class Network(nn.Module):\n",
    "```\n",
    "\n",
    "Here we're inheriting from `nn.Module`. Combined with `super().__init__()` this creates a class that tracks the architecture and provides a lot of useful methods and attributes. It is mandatory to inherit from `nn.Module` when you're creating a class for your network. The name of the class itself can be anything.\n",
    "\n",
    "```python\n",
    "self.hidden = nn.Linear(784, 256)\n",
    "```\n",
    "\n",
    "This line creates a module for a linear transformation, $x\\mathbf{W} + b$, with 784 inputs and 256 outputs and assigns it to `self.hidden`. The module automatically creates the weight and bias tensors which we'll use in the `forward` method. You can access the weight and bias tensors once the network (`net`) is created with `net.hidden.weight` and `net.hidden.bias`.\n",
    "\n",
    "```python\n",
    "self.output = nn.Linear(256, 10)\n",
    "```\n",
    "\n",
    "Similarly, this creates another linear transformation with 256 inputs and 10 outputs.\n",
    "\n",
    "```python\n",
    "self.sigmoid = nn.Sigmoid()\n",
    "self.softmax = nn.Softmax(dim=1)\n",
    "```\n",
    "\n",
    "Here I defined operations for the sigmoid activation and softmax output. Setting `dim=1` in `nn.Softmax(dim=1)` calculates softmax across the columns.\n",
    "\n",
    "```python\n",
    "def forward(self, x):\n",
    "```\n",
    "\n",
    "PyTorch networks created with `nn.Module` must have a `forward` method defined. It takes in a tensor `x` and passes it through the operations you defined in the `__init__` method.\n",
    "\n",
    "```python\n",
    "x = self.hidden(x)\n",
    "x = self.sigmoid(x)\n",
    "x = self.output(x)\n",
    "x = self.softmax(x)\n",
    "```\n",
    "\n",
    "Here the input tensor `x` is passed through each operation a reassigned to `x`. We can see that the input tensor goes through the hidden layer, then a sigmoid function, then the output layer, and finally the softmax function. It doesn't matter what you name the variables here, as long as the inputs and outputs of the operations match the network architecture you want to build. The order in which you define things in the `__init__` method doesn't matter, but you'll need to sequence the operations correctly in the `forward` method.\n",
    "\n",
    "Now we can create a `Network` object."
   ]
  },
  {
   "cell_type": "code",
   "execution_count": 17,
   "metadata": {},
   "outputs": [
    {
     "data": {
      "text/plain": [
       "Network(\n",
       "  (hidden): Linear(in_features=784, out_features=256, bias=True)\n",
       "  (output): Linear(in_features=256, out_features=10, bias=True)\n",
       "  (sigmoid): Sigmoid()\n",
       "  (softmax): Softmax()\n",
       ")"
      ]
     },
     "execution_count": 17,
     "metadata": {},
     "output_type": "execute_result"
    }
   ],
   "source": [
    "# Create the network and look at it's text representation\n",
    "model = Network()\n",
    "model"
   ]
  },
  {
   "cell_type": "markdown",
   "metadata": {},
   "source": [
    "You can define the network somewhat more concisely and clearly using the `torch.nn.functional` module. This is the most common way you'll see networks defined as many operations are simple element-wise functions. We normally import this module as `F`, `import torch.nn.functional as F`."
   ]
  },
  {
   "cell_type": "code",
   "execution_count": null,
   "metadata": {},
   "outputs": [],
   "source": [
    "import torch.nn.functional as F\n",
    "\n",
    "class Network(nn.Module):\n",
    "    def __init__(self):\n",
    "        super().__init__()\n",
    "        # Inputs to hidden layer linear transformation\n",
    "        self.hidden = nn.Linear(784, 256)\n",
    "        # Output layer, 10 units - one for each digit\n",
    "        self.output = nn.Linear(256, 10)\n",
    "        \n",
    "    def forward(self, x):\n",
    "        # Hidden layer with sigmoid activation\n",
    "        x = F.sigmoid(self.hidden(x))\n",
    "        # Output layer with softmax activation\n",
    "        x = F.softmax(self.output(x), dim=1)\n",
    "        \n",
    "        return x"
   ]
  },
  {
   "cell_type": "markdown",
   "metadata": {},
   "source": [
    "### Activation functions\n",
    "\n",
    "So far we've only been looking at the softmax activation, but in general any function can be used as an activation function. The only requirement is that for a network to approximate a non-linear function, the activation functions must be non-linear. Here are a few more examples of common activation functions: Tanh (hyperbolic tangent), and ReLU (rectified linear unit).\n",
    "\n",
    "<img src=\"assets/activation.png\" width=700px>\n",
    "\n",
    "In practice, the ReLU function is used almost exclusively as the activation function for hidden layers."
   ]
  },
  {
   "cell_type": "markdown",
   "metadata": {},
   "source": [
    "### Your Turn to Build a Network\n",
    "\n",
    "<img src=\"assets/mlp_mnist.png\" width=600px>\n",
    "\n",
    "> **Exercise:** Create a network with 784 input units, a hidden layer with 128 units and a ReLU activation, then a hidden layer with 64 units and a ReLU activation, and finally an output layer with a softmax activation as shown above. You can use a ReLU activation with the `nn.ReLU` module or `F.relu` function."
   ]
  },
  {
   "cell_type": "code",
   "execution_count": 19,
   "metadata": {
    "scrolled": true
   },
   "outputs": [
    {
     "data": {
      "text/plain": [
       "Network(\n",
       "  (hidden_1): Linear(in_features=784, out_features=128, bias=True)\n",
       "  (hidden_2): Linear(in_features=128, out_features=64, bias=True)\n",
       "  (output): Linear(in_features=64, out_features=10, bias=True)\n",
       ")"
      ]
     },
     "execution_count": 19,
     "metadata": {},
     "output_type": "execute_result"
    }
   ],
   "source": [
    "## Your solution here\n",
    "\n",
    "import torch.nn.functional as F\n",
    "\n",
    "class Network(nn.Module):\n",
    "    def __init__(self):\n",
    "        super().__init__()\n",
    "        \n",
    "        # Inputs to hidden layer 1 linear transformation\n",
    "        self.hidden_1 = nn.Linear(784, 128)\n",
    "        \n",
    "        # Inputs to hidden layer 2 linear transformation\n",
    "        self.hidden_2 = nn.Linear(128, 64)\n",
    "        \n",
    "        # Output layer, 10 units - one for each digit\n",
    "        self.output = nn.Linear(64, 10)\n",
    "        \n",
    "    def forward(self, x):\n",
    "        # Hidden layer 1 with relu activation\n",
    "        x = F.relu(self.hidden_1(x))\n",
    "        \n",
    "        # Hidden layer 2 with relu activation\n",
    "        x = F.relu(self.hidden_2(x))\n",
    "        \n",
    "        # Output layer with softmax activation\n",
    "        x = F.softmax(self.output(x), dim=1)\n",
    "        \n",
    "        return x\n",
    "\n",
    "model = Network()\n",
    "model"
   ]
  },
  {
   "cell_type": "code",
   "execution_count": null,
   "metadata": {},
   "outputs": [],
   "source": []
  },
  {
   "cell_type": "markdown",
   "metadata": {},
   "source": [
    "### Initializing weights and biases\n",
    "\n",
    "The weights and such are automatically initialized for you, but it's possible to customize how they are initialized. The weights and biases are tensors attached to the layer you defined, you can get them with `model.fc1.weight` for instance. (`model.hidden_1.weight` since that's the naming I used)"
   ]
  },
  {
   "cell_type": "code",
   "execution_count": 20,
   "metadata": {},
   "outputs": [
    {
     "name": "stdout",
     "output_type": "stream",
     "text": [
      "Parameter containing:\n",
      "tensor([[ 0.0019,  0.0005, -0.0266,  ...,  0.0021,  0.0257,  0.0180],\n",
      "        [-0.0291,  0.0194,  0.0033,  ..., -0.0058, -0.0152, -0.0074],\n",
      "        [-0.0255,  0.0141, -0.0173,  ..., -0.0066,  0.0269,  0.0035],\n",
      "        ...,\n",
      "        [-0.0114,  0.0222,  0.0197,  ...,  0.0243,  0.0304,  0.0111],\n",
      "        [-0.0090, -0.0345, -0.0355,  ..., -0.0130,  0.0239, -0.0339],\n",
      "        [ 0.0088,  0.0205,  0.0327,  ..., -0.0091,  0.0315,  0.0055]],\n",
      "       requires_grad=True)\n",
      "Parameter containing:\n",
      "tensor([-0.0006, -0.0100,  0.0276, -0.0134, -0.0039,  0.0245, -0.0207,  0.0039,\n",
      "        -0.0155,  0.0004,  0.0028, -0.0305,  0.0163,  0.0109, -0.0037,  0.0187,\n",
      "         0.0095,  0.0269, -0.0096, -0.0019, -0.0355,  0.0344,  0.0178, -0.0305,\n",
      "        -0.0307, -0.0113, -0.0355,  0.0336, -0.0058, -0.0032,  0.0309,  0.0017,\n",
      "         0.0203, -0.0101,  0.0036, -0.0251, -0.0256, -0.0087,  0.0092, -0.0355,\n",
      "         0.0127, -0.0146, -0.0254, -0.0126, -0.0269,  0.0212,  0.0112, -0.0237,\n",
      "         0.0278,  0.0016, -0.0003,  0.0029, -0.0072,  0.0156,  0.0173, -0.0053,\n",
      "         0.0148,  0.0055,  0.0167, -0.0079,  0.0071,  0.0239,  0.0309,  0.0081,\n",
      "         0.0260,  0.0178, -0.0177,  0.0286, -0.0192,  0.0316, -0.0331, -0.0061,\n",
      "        -0.0203, -0.0219,  0.0069, -0.0191,  0.0133, -0.0211,  0.0017,  0.0135,\n",
      "        -0.0236, -0.0094,  0.0270,  0.0357, -0.0104,  0.0139,  0.0025, -0.0290,\n",
      "         0.0053, -0.0285,  0.0193, -0.0171,  0.0198,  0.0064,  0.0045,  0.0033,\n",
      "        -0.0205, -0.0122,  0.0348, -0.0299, -0.0246,  0.0097, -0.0101, -0.0285,\n",
      "         0.0185,  0.0236,  0.0244, -0.0269, -0.0338, -0.0353,  0.0282,  0.0088,\n",
      "        -0.0025, -0.0083, -0.0050,  0.0320, -0.0272, -0.0181,  0.0189,  0.0148,\n",
      "        -0.0171, -0.0174, -0.0209, -0.0208, -0.0314, -0.0042, -0.0348, -0.0181],\n",
      "       requires_grad=True)\n"
     ]
    }
   ],
   "source": [
    "print(model.hidden_1.weight)\n",
    "print(model.hidden_1.bias)"
   ]
  },
  {
   "cell_type": "markdown",
   "metadata": {},
   "source": [
    "For custom initialization, we want to modify these tensors in place. These are actually autograd *Variables*, so we need to get back the actual tensors with `model.fc1.weight.data` (`model.hidden_1.weight.data` rather). Once we have the tensors, we can fill them with zeros (for biases) or random normal values."
   ]
  },
  {
   "cell_type": "code",
   "execution_count": 21,
   "metadata": {},
   "outputs": [
    {
     "data": {
      "text/plain": [
       "tensor([[0., 0., 0.,  ..., 0., 0., 0.],\n",
       "        [0., 0., 0.,  ..., 0., 0., 0.],\n",
       "        [0., 0., 0.,  ..., 0., 0., 0.],\n",
       "        ...,\n",
       "        [0., 0., 0.,  ..., 0., 0., 0.],\n",
       "        [0., 0., 0.,  ..., 0., 0., 0.],\n",
       "        [0., 0., 0.,  ..., 0., 0., 0.]])"
      ]
     },
     "execution_count": 21,
     "metadata": {},
     "output_type": "execute_result"
    }
   ],
   "source": [
    "# Set biases to all zeros\n",
    "model.hidden_1.weight.data.fill_(0)"
   ]
  },
  {
   "cell_type": "code",
   "execution_count": 22,
   "metadata": {},
   "outputs": [
    {
     "data": {
      "text/plain": [
       "tensor([[ 0.0013, -0.0097, -0.0107,  ...,  0.0088, -0.0066,  0.0040],\n",
       "        [-0.0093,  0.0021,  0.0107,  ...,  0.0003,  0.0007,  0.0027],\n",
       "        [ 0.0085, -0.0038,  0.0023,  ..., -0.0218, -0.0126,  0.0017],\n",
       "        ...,\n",
       "        [ 0.0034, -0.0230,  0.0046,  ...,  0.0049, -0.0056,  0.0109],\n",
       "        [-0.0020,  0.0027, -0.0104,  ...,  0.0089, -0.0030,  0.0080],\n",
       "        [ 0.0027,  0.0078, -0.0043,  ..., -0.0089,  0.0020,  0.0119]])"
      ]
     },
     "execution_count": 22,
     "metadata": {},
     "output_type": "execute_result"
    }
   ],
   "source": [
    "# sample from random normal with standard dev = 0.01\n",
    "model.hidden_1.weight.data.normal_(std=0.01)"
   ]
  },
  {
   "cell_type": "markdown",
   "metadata": {},
   "source": [
    "### Forward pass\n",
    "\n",
    "Now that we have a network, let's see what happens when we pass in an image."
   ]
  },
  {
   "cell_type": "code",
   "execution_count": 23,
   "metadata": {},
   "outputs": [
    {
     "data": {
      "image/png": "[encoded data removed]",
      "text/plain": [
       "<Figure size 432x648 with 2 Axes>"
      ]
     },
     "metadata": {
      "image/png": {
       "height": 226,
       "width": 423
      },
      "needs_background": "light"
     },
     "output_type": "display_data"
    }
   ],
   "source": [
    "# Grab some data \n",
    "dataiter = iter(trainloader)\n",
    "images, labels = dataiter.next()\n",
    "\n",
    "# Resize images into a 1D vector, new shape is (batch size, color channels, image pixels) \n",
    "images.resize_(64, 1, 784)\n",
    "# or images.resize_(images.shape[0], 1, 784) to automatically get batch size\n",
    "\n",
    "# Forward pass through the network\n",
    "img_idx = 0\n",
    "ps = model.forward(images[img_idx,:])\n",
    "\n",
    "img = images[img_idx]\n",
    "helper.view_classify(img.view(1, 28, 28), ps)"
   ]
  },
  {
   "cell_type": "markdown",
   "metadata": {},
   "source": [
    "As you can see above, our network has basically no idea what this digit is. It's because we haven't trained it yet, all the weights are random!\n",
    "\n",
    "### Using `nn.Sequential`\n",
    "\n",
    "PyTorch provides a convenient way to build networks like this where a tensor is passed sequentially through operations, `nn.Sequential` ([documentation](https://pytorch.org/docs/master/nn.html#torch.nn.Sequential)). Using this to build the equivalent network:"
   ]
  },
  {
   "cell_type": "code",
   "execution_count": 24,
   "metadata": {},
   "outputs": [
    {
     "name": "stdout",
     "output_type": "stream",
     "text": [
      "Sequential(\n",
      "  (0): Linear(in_features=784, out_features=128, bias=True)\n",
      "  (1): ReLU()\n",
      "  (2): Linear(in_features=128, out_features=64, bias=True)\n",
      "  (3): ReLU()\n",
      "  (4): Linear(in_features=64, out_features=10, bias=True)\n",
      "  (5): Softmax()\n",
      ")\n"
     ]
    },
    {
     "data": {
      "image/png": "[encoded data removed]",
      "text/plain": [
       "<Figure size 432x648 with 2 Axes>"
      ]
     },
     "metadata": {
      "image/png": {
       "height": 226,
       "width": 423
      },
      "needs_background": "light"
     },
     "output_type": "display_data"
    }
   ],
   "source": [
    "# Hyperparameters for our network\n",
    "input_size = 784\n",
    "hidden_sizes = [128, 64]\n",
    "output_size = 10\n",
    "\n",
    "# Build a feed-forward network\n",
    "model = nn.Sequential(nn.Linear(input_size, hidden_sizes[0]),\n",
    "                      nn.ReLU(),\n",
    "                      nn.Linear(hidden_sizes[0], hidden_sizes[1]),\n",
    "                      nn.ReLU(),\n",
    "                      nn.Linear(hidden_sizes[1], output_size),\n",
    "                      nn.Softmax(dim=1))\n",
    "print(model)\n",
    "\n",
    "# Forward pass through the network and display output\n",
    "images, labels = next(iter(trainloader))\n",
    "images.resize_(images.shape[0], 1, 784)\n",
    "ps = model.forward(images[0,:])\n",
    "helper.view_classify(images[0].view(1, 28, 28), ps)"
   ]
  },
  {
   "cell_type": "markdown",
   "metadata": {},
   "source": [
    "Here our model is the same as before: 784 input units, a hidden layer with 128 units, ReLU activation, 64 unit hidden layer, another ReLU, then the output layer with 10 units, and the softmax output.\n",
    "\n",
    "The operations are availble by passing in the appropriate index. For example, if you want to get first Linear operation and look at the weights, you'd use `model[0]`."
   ]
  },
  {
   "cell_type": "code",
   "execution_count": 25,
   "metadata": {},
   "outputs": [
    {
     "name": "stdout",
     "output_type": "stream",
     "text": [
      "Linear(in_features=784, out_features=128, bias=True)\n"
     ]
    },
    {
     "data": {
      "text/plain": [
       "Parameter containing:\n",
       "tensor([[-0.0299, -0.0127, -0.0251,  ...,  0.0306, -0.0006,  0.0221],\n",
       "        [-0.0095, -0.0079, -0.0285,  ..., -0.0207, -0.0022, -0.0159],\n",
       "        [-0.0288,  0.0111,  0.0197,  ...,  0.0109,  0.0006, -0.0051],\n",
       "        ...,\n",
       "        [ 0.0191,  0.0355, -0.0216,  ..., -0.0224, -0.0000, -0.0083],\n",
       "        [-0.0290, -0.0005,  0.0196,  ..., -0.0142,  0.0130, -0.0232],\n",
       "        [ 0.0165,  0.0093, -0.0166,  ...,  0.0234,  0.0222,  0.0203]],\n",
       "       requires_grad=True)"
      ]
     },
     "execution_count": 25,
     "metadata": {},
     "output_type": "execute_result"
    }
   ],
   "source": [
    "print(model[0])\n",
    "model[0].weight"
   ]
  },
  {
   "cell_type": "markdown",
   "metadata": {},
   "source": [
    "You can also pass in an `OrderedDict` to name the individual layers and operations, instead of using incremental integers. Note that dictionary keys must be unique, so _each operation must have a different name_."
   ]
  },
  {
   "cell_type": "code",
   "execution_count": 26,
   "metadata": {},
   "outputs": [
    {
     "data": {
      "text/plain": [
       "Sequential(\n",
       "  (fc1): Linear(in_features=784, out_features=128, bias=True)\n",
       "  (relu1): ReLU()\n",
       "  (fc2): Linear(in_features=128, out_features=64, bias=True)\n",
       "  (relu2): ReLU()\n",
       "  (output): Linear(in_features=64, out_features=10, bias=True)\n",
       "  (softmax): Softmax()\n",
       ")"
      ]
     },
     "execution_count": 26,
     "metadata": {},
     "output_type": "execute_result"
    }
   ],
   "source": [
    "from collections import OrderedDict\n",
    "model = nn.Sequential(OrderedDict([\n",
    "                      ('fc1', nn.Linear(input_size, hidden_sizes[0])),\n",
    "                      ('relu1', nn.ReLU()),\n",
    "                      ('fc2', nn.Linear(hidden_sizes[0], hidden_sizes[1])),\n",
    "                      ('relu2', nn.ReLU()),\n",
    "                      ('output', nn.Linear(hidden_sizes[1], output_size)),\n",
    "                      ('softmax', nn.Softmax(dim=1))]))\n",
    "model"
   ]
  },
  {
   "cell_type": "markdown",
   "metadata": {},
   "source": [
    "Now you can access layers either by integer or the name"
   ]
  },
  {
   "cell_type": "code",
   "execution_count": 27,
   "metadata": {},
   "outputs": [
    {
     "name": "stdout",
     "output_type": "stream",
     "text": [
      "Linear(in_features=784, out_features=128, bias=True)\n",
      "Linear(in_features=784, out_features=128, bias=True)\n"
     ]
    }
   ],
   "source": [
    "print(model[0])\n",
    "print(model.fc1)"
   ]
  },
  {
   "cell_type": "markdown",
   "metadata": {},
   "source": [
    "In the next notebook, we'll see how we can train a neural network to accuractly predict the numbers appearing in the MNIST images."
   ]
  }
 ],
 "metadata": {
  "kernelspec": {
   "display_name": "Python 3",
   "language": "python",
   "name": "python3"
  },
  "language_info": {
   "codemirror_mode": {
    "name": "ipython",
    "version": 3
   },
   "file_extension": ".py",
   "mimetype": "text/x-python",
   "name": "python",
   "nbconvert_exporter": "python",
   "pygments_lexer": "ipython3",
   "version": "3.7.1"
  }
 },
 "nbformat": 4,
 "nbformat_minor": 2
}
